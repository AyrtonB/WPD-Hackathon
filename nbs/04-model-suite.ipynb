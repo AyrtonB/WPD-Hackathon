{
 "cells": [
  {
   "cell_type": "code",
   "execution_count": 1,
   "id": "3d3848d0-8d78-493c-9180-8899ad87e576",
   "metadata": {},
   "outputs": [],
   "source": [
    "#default_exp suite"
   ]
  },
  {
   "cell_type": "markdown",
   "id": "b1c95bf0-25a0-460a-8b24-f280173dbf17",
   "metadata": {},
   "source": [
    "# Model Suite\n",
    "\n",
    "<br>\n",
    "\n",
    "### Imports"
   ]
  },
  {
   "cell_type": "code",
   "execution_count": 2,
   "id": "02d329bb-267c-449a-be88-f23d55e298f9",
   "metadata": {},
   "outputs": [],
   "source": [
    "#exports\n",
    "import numpy as np\n",
    "import pandas as pd\n",
    "\n",
    "from sklearn.ensemble import RandomForestRegressor\n",
    "from sklearn.model_selection import KFold, train_test_split\n",
    "\n",
    "from evtdemand import data, feature\n",
    "\n",
    "from tqdm import tqdm\n",
    "from typing import Protocol\n",
    "from importlib import import_module"
   ]
  },
  {
   "cell_type": "code",
   "execution_count": 3,
   "id": "aef6507b-f1ea-4815-bf6f-5c8b0be3b219",
   "metadata": {},
   "outputs": [],
   "source": [
    "from IPython.display import JSON"
   ]
  },
  {
   "cell_type": "code",
   "execution_count": null,
   "id": "d1ccf18f-6b42-4128-bdac-cd5ad4c381e7",
   "metadata": {},
   "outputs": [],
   "source": []
  },
  {
   "cell_type": "code",
   "execution_count": 4,
   "id": "36c44c34-a284-4ea7-ae8f-e93d1093b418",
   "metadata": {},
   "outputs": [],
   "source": [
    "data_dir = '../data'\n",
    "real_power_data_dir = '../data/real_power'\n",
    "\n",
    "df_features, df_target = data.construct_baseline_features_target_dfs(data_dir)\n",
    "# df_features = feature.create_additional_features(df_features, df_target)"
   ]
  },
  {
   "cell_type": "code",
   "execution_count": null,
   "id": "bbcfc005-7ee0-4eef-9fa3-4cc6a1f3e93f",
   "metadata": {},
   "outputs": [],
   "source": []
  },
  {
   "cell_type": "code",
   "execution_count": 31,
   "id": "c573f4c0-60d6-47f9-a779-11c6703e89f1",
   "metadata": {},
   "outputs": [],
   "source": [
    "#exports\n",
    "class ScikitModel(Protocol):\n",
    "    def fit(self, X, y, sample_weight=None): ...\n",
    "    def predict(self, X): ...\n",
    "    def score(self, X, y, sample_weight=None): ...\n",
    "    def set_params(self, **params): ...\n",
    "    \n",
    "def create_train_test_indexes(X, **split_kwargs):\n",
    "    if 'n_splits' not in split_kwargs.keys():\n",
    "        assert 'test_size' in split_kwargs.keys(), 'You must provide either `n_splits` or `test_size` within the `split_kwargs` parameters'\n",
    "        size = X.shape[0]\n",
    "        index_array = np.linspace(0, size-1, size).astype(int)\n",
    "        train_test_indexes = [tuple(train_test_split(index_array, **split_kwargs))]\n",
    "    else:\n",
    "        kf = KFold(**split_kwargs)\n",
    "        train_test_indexes = kf.split(X)\n",
    "        \n",
    "    return train_test_indexes\n",
    "    \n",
    "def calculate_error_metrics(y1, y2, y1_pred, y2_pred, y_baseline):\n",
    "    baseline_combined_rmse = np.sqrt(np.square(y_baseline - y1).sum() + np.square(y_baseline - y2).sum())\n",
    "    combined_rmse = np.sqrt(np.square(y1_pred - y1).sum() + np.square(y2_pred - y2).sum())\n",
    "    \n",
    "    error_metrics = {\n",
    "        'y1_rmse': np.sqrt(np.square(y1_pred - y1).sum()),\n",
    "        'y2_rmse': np.sqrt(np.square(y2_pred - y2).sum()),\n",
    "        'combined_rmse': combined_rmse,\n",
    "        'skill_score': combined_rmse/baseline_combined_rmse\n",
    "    }\n",
    "\n",
    "    return error_metrics\n",
    "\n",
    "class ModelSuite:\n",
    "    def __init__(\n",
    "        self,\n",
    "        model_1: ScikitModel=RandomForestRegressor(),\n",
    "        model_2: ScikitModel=RandomForestRegressor(),\n",
    "    ):\n",
    "        self.set_models(model_1, model_2)\n",
    "        \n",
    "        return\n",
    "    \n",
    "    def set_models(\n",
    "        self,\n",
    "        model_1: ScikitModel=RandomForestRegressor(),\n",
    "        model_2: ScikitModel=RandomForestRegressor(),\n",
    "        trained: bool=False\n",
    "    ):\n",
    "        self.model_1 = model_1\n",
    "        self.model_2 = model_2\n",
    "        \n",
    "        self.trained = trained\n",
    "        \n",
    "        return \n",
    "    \n",
    "    def fit_models(\n",
    "        self,\n",
    "        X: np.ndarray,\n",
    "        y1: np.ndarray,\n",
    "        y2: np.ndarray,\n",
    "    ):\n",
    "        self.model_1.fit(X, y1)\n",
    "        self.model_2.fit(X, y2)\n",
    "        \n",
    "        self.trained = True\n",
    "        \n",
    "        return \n",
    "    \n",
    "    def predict_models(\n",
    "        self,\n",
    "        X: np.ndarray\n",
    "    ):\n",
    "        y1_pred = self.model_1.predict(X)\n",
    "        y2_pred = self.model_2.predict(X)\n",
    "        \n",
    "        return y1_pred, y2_pred\n",
    "    \n",
    "    def construct_prediction_df(\n",
    "        self,\n",
    "        y1_pred: np.ndarray,\n",
    "        y2_pred: np.ndarray,\n",
    "        index: pd.Index\n",
    "    ):\n",
    "        df_pred = pd.DataFrame({'value_max': y1_pred, 'value_min': y2_pred}, index=index)\n",
    "        df_pred.index.name = 'time'\n",
    "        df_pred.index = index.tz_convert(None)\n",
    "        \n",
    "        return df_pred\n",
    "    \n",
    "    def run_test(\n",
    "        self,\n",
    "        df_target: pd.DataFrame,\n",
    "        df_features: pd.DataFrame,\n",
    "        y1_col: str='value_max',\n",
    "        y2_col: str='value_min',\n",
    "        split_kwargs: dict={\n",
    "            'test_size': 0.1, \n",
    "            'shuffle': False\n",
    "        }\n",
    "    ):\n",
    "        X = df_features.values\n",
    "        y1, y2 = df_target[y1_col].values, df_target[y2_col].values\n",
    "        y_baseline = df_features['value'].values\n",
    "        \n",
    "        error_metrics = []\n",
    "        df_pred = pd.DataFrame()\n",
    "        train_test_indexes = create_train_test_indexes(X, **split_kwargs)\n",
    "        \n",
    "        for train_index, test_index in train_test_indexes:\n",
    "            X_train, X_test, y1_train, y1_test, y2_train, y2_test, y_baseline_train, y_baseline_test = X[train_index], X[test_index], y1[train_index], y1[test_index], y2[train_index], y2[test_index], y_baseline[train_index], y_baseline[test_index]\n",
    "            self.fit_models(X_train, y1_train, y2_train)\n",
    "            y1_pred, y2_pred = self.predict_models(X_test)\n",
    "            \n",
    "            df_pred = df_pred.append(self.construct_prediction_df(y1_pred, y2_pred, df_features.index[test_index]).assign(observed=y_baseline_test))\n",
    "            error_metrics += [calculate_error_metrics(y1_test, y2_test, y1_pred, y2_pred, y_baseline_test)]\n",
    "        \n",
    "        df_pred = df_pred.sort_index()\n",
    "        avg_error_metrics = pd.DataFrame(error_metrics).mean().to_dict()\n",
    "\n",
    "        return avg_error_metrics, df_pred\n",
    "    \n",
    "    def run_submission(\n",
    "        self,\n",
    "        df_train_target: pd.DataFrame,\n",
    "        df_train_features: pd.DataFrame,\n",
    "        df_submission_features: pd.DataFrame,\n",
    "        submissions_dir: str='../data/submission',\n",
    "        y1_col: str='value_max',\n",
    "        y2_col: str='value_min',\n",
    "        save_submission: bool=False\n",
    "    ):\n",
    "        X_train = df_train_features.values\n",
    "        y1_train, y2_train = df_train_target[y1_col].values, df_train_target[y2_col].values\n",
    "        X_submission = df_submission_features.values\n",
    "        submission_index = df_submission_features.index\n",
    "        \n",
    "        self.fit_models(X_train, y1_train, y2_train)\n",
    "        y1_submission, y2_submission = self.predict_models(X_submission)\n",
    "        \n",
    "        df_pred = self.construct_prediction_df(y1_submission, y2_submission, submission_index)\n",
    "        \n",
    "        if save_submission == True:\n",
    "            df_pred.to_csv(f'{submissions_dir}/predictions.csv')\n",
    "            df_pred.to_csv(f'{submissions_dir}/archive/predictions_{pd.Timestamp.now().strftime(\"%Y-%m-%d %H-%M-%S\")}.csv')\n",
    "\n",
    "        return df_pred"
   ]
  },
  {
   "cell_type": "code",
   "execution_count": 20,
   "id": "cd298a81-f650-4054-9d0b-b037463a48c7",
   "metadata": {},
   "outputs": [],
   "source": [
    "# add example here of training, testing, and submission"
   ]
  },
  {
   "cell_type": "code",
   "execution_count": null,
   "id": "8d9ab8ba-97c7-4453-879c-a5f3ef86fb21",
   "metadata": {},
   "outputs": [],
   "source": []
  },
  {
   "cell_type": "code",
   "execution_count": 35,
   "id": "003cbbc9-d8e7-472b-87ab-3564cb5b12d8",
   "metadata": {},
   "outputs": [],
   "source": [
    "#exports\n",
    "def load_module_attr(module_attr_path: str):\n",
    "    *module, attr = module_attr_path.split('.')\n",
    "    assert len(module)>0, 'A module has not been passed, only an attribute'\n",
    "    func = getattr(import_module('.'.join(module)), attr)\n",
    "\n",
    "    return func\n",
    "    \n",
    "def run_parameterised_model(\n",
    "    data_dir: str='data',\n",
    "    model_1: str='sklearn.ensemble.RandomForestRegressor', # these can be any sklearn compatible model\n",
    "    model_2: str='sklearn.ensemble.RandomForestRegressor',\n",
    "    model_1_kwargs: dict={},\n",
    "    model_2_kwargs: dict={},\n",
    "    data_kwargs: dict={\n",
    "        'real_power_sub_dir': 'real_power',\n",
    "        'weather_sub_dir': 'weather',\n",
    "        'real_power_time_period': '_pre_august',\n",
    "        'real_power_site': 'Staplegrove_CB905',\n",
    "        'weather_grid_point': 'staplegrove_1',\n",
    "        'weather_interpolate_method': 'interpolate'\n",
    "    },\n",
    "    y1_col: str='value_max',\n",
    "    y2_col: str='value_min',\n",
    "    split_kwargs: dict={\n",
    "        'test_size': 0.1, \n",
    "        'shuffle': False\n",
    "    },\n",
    "    cols_subset: list=['value', 'temperature', 'solar_irradiance', 'pressure',\n",
    "                       'spec_humidity', 'hour', 'windspeed_north', 'windspeed_east', \n",
    "                       'doy', 'speed', 'direction', 'weekend', 'hcdh'],\n",
    "    features_kwargs: dict={\n",
    "        'features': ['temporal', 'dir_speed', 'hcdh']\n",
    "    }\n",
    "):\n",
    "    input_data = locals()\n",
    "    \n",
    "    # data loading, generation, and processing\n",
    "    df_features, df_target = data.construct_baseline_features_target_dfs(data_dir, **data_kwargs)\n",
    "    df_features = feature.create_additional_features(df_features, df_target, **features_kwargs)\n",
    "    df_features = feature.process_features(df_features, cols_subset=cols_subset)\n",
    "    \n",
    "    # model loading\n",
    "    if isinstance(model_1, str):\n",
    "        model_1 = load_module_attr(model_1)\n",
    "    if isinstance(model_2, str):\n",
    "        model_2 = load_module_attr(model_2)\n",
    "    \n",
    "    # model run\n",
    "    model_suite = ModelSuite(model_1(**model_1_kwargs), model_2(**model_2_kwargs))\n",
    "    error_metrics, df_pred = model_suite.run_test(df_target, df_features, y1_col=y1_col, y2_col=y2_col, split_kwargs=split_kwargs)\n",
    "    \n",
    "    return model_suite, error_metrics, df_pred, input_data"
   ]
  },
  {
   "cell_type": "code",
   "execution_count": 22,
   "id": "e8ed34b9-053a-4080-88a3-e83267b06144",
   "metadata": {
    "tags": []
   },
   "outputs": [
    {
     "name": "stdout",
     "output_type": "stream",
     "text": [
      "Wall time: 1min 52s\n"
     ]
    },
    {
     "data": {
      "text/plain": [
       "{'y1_rmse': 17.506625161429554,\n",
       " 'y2_rmse': 18.633093880505484,\n",
       " 'combined_rmse': 25.57088621883296,\n",
       " 'skill_score': 0.5303326037318531}"
      ]
     },
     "execution_count": 22,
     "metadata": {},
     "output_type": "execute_result"
    }
   ],
   "source": [
    "%%time\n",
    "\n",
    "split_kwargs = {'n_splits': 2, 'shuffle': False}\n",
    "\n",
    "model_suite, error_metrics, df_pred, input_data = run_parameterised_model(data_dir=data_dir, split_kwargs=split_kwargs)\n",
    "\n",
    "error_metrics"
   ]
  },
  {
   "cell_type": "code",
   "execution_count": null,
   "id": "62a77749-2a7b-4e3f-a44c-a8c65dad1ba4",
   "metadata": {},
   "outputs": [],
   "source": []
  },
  {
   "cell_type": "code",
   "execution_count": 28,
   "id": "ec079e0d-fb1d-4aee-8de4-6c8750f8f558",
   "metadata": {},
   "outputs": [
    {
     "data": {
      "text/plain": [
       "<AxesSubplot:xlabel='time'>"
      ]
     },
     "execution_count": 28,
     "metadata": {},
     "output_type": "execute_result"
    },
    {
     "data": {
      "image/png": "[encoded data removed]",
      "text/plain": [
       "<Figure size 432x288 with 1 Axes>"
      ]
     },
     "metadata": {
      "needs_background": "light"
     },
     "output_type": "display_data"
    }
   ],
   "source": [
    "df_pred.resample('7D').mean().plot()"
   ]
  },
  {
   "cell_type": "code",
   "execution_count": null,
   "id": "0309ec4e-c96b-4504-b81a-9f98bc5f4051",
   "metadata": {},
   "outputs": [],
   "source": []
  },
  {
   "cell_type": "code",
   "execution_count": null,
   "id": "c15a2586-fd71-4391-b67b-253bd8f382f2",
   "metadata": {},
   "outputs": [],
   "source": []
  },
  {
   "cell_type": "code",
   "execution_count": 9,
   "id": "a34d4b63-fe1c-4a77-89d4-67c99696bdc9",
   "metadata": {},
   "outputs": [
    {
     "name": "stdout",
     "output_type": "stream",
     "text": [
      "Wall time: 47.8 s\n"
     ]
    },
    {
     "data": {
      "text/plain": [
       "RandomForestRegressor()"
      ]
     },
     "execution_count": 9,
     "metadata": {},
     "output_type": "execute_result"
    }
   ],
   "source": [
    "%%time\n",
    "\n",
    "model_1.fit(X, y1)\n",
    "model_2.fit(X, y2)"
   ]
  },
  {
   "cell_type": "code",
   "execution_count": null,
   "id": "b2772ebc-1bff-42e7-99eb-e82466bbfb34",
   "metadata": {},
   "outputs": [],
   "source": []
  },
  {
   "cell_type": "code",
   "execution_count": 10,
   "id": "0a5d139f-445b-4149-a5c8-4a26473c58a2",
   "metadata": {},
   "outputs": [
    {
     "data": {
      "text/plain": [
       "(1488, 7)"
      ]
     },
     "execution_count": 10,
     "metadata": {},
     "output_type": "execute_result"
    }
   ],
   "source": [
    "df_observation_submission = data.load_real_power_dataset(f'{data_dir}/real_power', site='Staplegrove_CB905', real_power_variable='observation_variable_half_hourly', time_period='_august')\n",
    "df_weather = data.load_weather_df(f'{data_dir}/weather', 'staplegrove_1')\n",
    "\n",
    "common_idxs = df_observation_submission.index.intersection(df_weather.index)\n",
    "\n",
    "df_features = df_observation_submission.loc[common_idxs].copy()\n",
    "df_features[df_weather.columns] = df_weather.loc[common_idxs].copy()\n",
    "# df_features = feature.create_additional_features(df_features)\n",
    "# need to combine the historic and new feature data before creating the \n",
    "\n",
    "X_submission = df_features.values\n",
    "\n",
    "X_submission.shape"
   ]
  },
  {
   "cell_type": "code",
   "execution_count": null,
   "id": "39a86bb2-a1d7-4b21-af0c-39963662970e",
   "metadata": {},
   "outputs": [],
   "source": []
  },
  {
   "cell_type": "code",
   "execution_count": 21,
   "id": "0656e997-8964-4249-88fc-ce48402472b4",
   "metadata": {},
   "outputs": [],
   "source": [
    "y1_submission = model_1.predict(X_submission)\n",
    "y2_submission = model_2.predict(X_submission)\n",
    "\n",
    "df_submission = pd.DataFrame({'value_max': y1_submission, 'value_min': y2_submission}, index=df_features.index)\n",
    "df_submission.index.name = 'time'\n",
    "df_submission.index = df_submission.index.tz_convert(None)\n",
    "\n",
    "df_submission.to_csv('../data/submission/predictions.csv')\n",
    "df_submission.to_csv(f'../data/submission/archive/predictions_{pd.Timestamp.now().strftime(\"%Y-%m-%d %H-%M\")}.csv')"
   ]
  },
  {
   "cell_type": "code",
   "execution_count": null,
   "id": "8eebb55d-65d4-4c25-922a-81dd269b0d87",
   "metadata": {},
   "outputs": [],
   "source": []
  },
  {
   "cell_type": "code",
   "execution_count": 36,
   "id": "ad88de9e-9fd5-40ba-9e9d-4a644492aa02",
   "metadata": {},
   "outputs": [
    {
     "name": "stdout",
     "output_type": "stream",
     "text": [
      "Converted 01-data-processing.ipynb.\n",
      "Converted 02-spatial-analysis.ipynb.\n",
      "Converted 03a-feature-generation.ipynb.\n",
      "Converted 03b-eda.ipynb.\n",
      "Converted 04-model-suite.ipynb.\n",
      "Converted 05-submission.ipynb.\n",
      "Converted 06-experiments.ipynb.\n"
     ]
    }
   ],
   "source": [
    "#hide\n",
    "from nbdev.export import notebook2script\n",
    "    \n",
    "notebook2script()"
   ]
  },
  {
   "cell_type": "code",
   "execution_count": null,
   "id": "1d9ec75e-720f-4e3f-86d6-6fc0cd0f2b99",
   "metadata": {},
   "outputs": [],
   "source": []
  }
 ],
 "metadata": {
  "kernelspec": {
   "display_name": "evtdemand",
   "language": "python",
   "name": "evtdemand"
  },
  "language_info": {
   "codemirror_mode": {
    "name": "ipython",
    "version": 3
   },
   "file_extension": ".py",
   "mimetype": "text/x-python",
   "name": "python",
   "nbconvert_exporter": "python",
   "pygments_lexer": "ipython3",
   "version": "3.9.7"
  }
 },
 "nbformat": 4,
 "nbformat_minor": 5
}
