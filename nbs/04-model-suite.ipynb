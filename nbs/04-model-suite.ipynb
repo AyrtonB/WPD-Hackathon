{
 "cells": [
  {
   "cell_type": "code",
   "execution_count": 1,
   "id": "3d3848d0-8d78-493c-9180-8899ad87e576",
   "metadata": {},
   "outputs": [],
   "source": [
    "#default_exp suite"
   ]
  },
  {
   "cell_type": "markdown",
   "id": "b1c95bf0-25a0-460a-8b24-f280173dbf17",
   "metadata": {},
   "source": [
    "# Model Suite\n",
    "\n",
    "<br>\n",
    "\n",
    "### Imports"
   ]
  },
  {
   "cell_type": "code",
   "execution_count": 2,
   "id": "02d329bb-267c-449a-be88-f23d55e298f9",
   "metadata": {},
   "outputs": [],
   "source": [
    "import numpy as np\n",
    "import pandas as pd\n",
    "\n",
    "import sklearn\n",
    "\n",
    "from evtdemand import data"
   ]
  },
  {
   "cell_type": "code",
   "execution_count": null,
   "id": "ea616225-bdfa-4081-a0cf-d1990e02f498",
   "metadata": {},
   "outputs": [],
   "source": []
  },
  {
   "cell_type": "code",
   "execution_count": 3,
   "id": "3b113017-dac2-4d3f-bed8-191cc80b5127",
   "metadata": {},
   "outputs": [
    {
     "data": {
      "text/html": [
       "<div>\n",
       "<style scoped>\n",
       "    .dataframe tbody tr th:only-of-type {\n",
       "        vertical-align: middle;\n",
       "    }\n",
       "\n",
       "    .dataframe tbody tr th {\n",
       "        vertical-align: top;\n",
       "    }\n",
       "\n",
       "    .dataframe thead th {\n",
       "        text-align: right;\n",
       "    }\n",
       "</style>\n",
       "<table border=\"1\" class=\"dataframe\">\n",
       "  <thead>\n",
       "    <tr style=\"text-align: right;\">\n",
       "      <th></th>\n",
       "      <th>value_max</th>\n",
       "      <th>value_min</th>\n",
       "    </tr>\n",
       "    <tr>\n",
       "      <th>time</th>\n",
       "      <th></th>\n",
       "      <th></th>\n",
       "    </tr>\n",
       "  </thead>\n",
       "  <tbody>\n",
       "    <tr>\n",
       "      <th>2019-11-01 00:00:00+00:00</th>\n",
       "      <td>1.145350</td>\n",
       "      <td>1.060368</td>\n",
       "    </tr>\n",
       "    <tr>\n",
       "      <th>2019-11-01 00:30:00+00:00</th>\n",
       "      <td>1.139437</td>\n",
       "      <td>1.027391</td>\n",
       "    </tr>\n",
       "    <tr>\n",
       "      <th>2019-11-01 01:00:00+00:00</th>\n",
       "      <td>1.047172</td>\n",
       "      <td>0.952354</td>\n",
       "    </tr>\n",
       "    <tr>\n",
       "      <th>2019-11-01 01:30:00+00:00</th>\n",
       "      <td>0.958730</td>\n",
       "      <td>0.880103</td>\n",
       "    </tr>\n",
       "    <tr>\n",
       "      <th>2019-11-01 02:00:00+00:00</th>\n",
       "      <td>0.905183</td>\n",
       "      <td>0.836223</td>\n",
       "    </tr>\n",
       "  </tbody>\n",
       "</table>\n",
       "</div>"
      ],
      "text/plain": [
       "                           value_max  value_min\n",
       "time                                           \n",
       "2019-11-01 00:00:00+00:00   1.145350   1.060368\n",
       "2019-11-01 00:30:00+00:00   1.139437   1.027391\n",
       "2019-11-01 01:00:00+00:00   1.047172   0.952354\n",
       "2019-11-01 01:30:00+00:00   0.958730   0.880103\n",
       "2019-11-01 02:00:00+00:00   0.905183   0.836223"
      ]
     },
     "execution_count": 3,
     "metadata": {},
     "output_type": "execute_result"
    }
   ],
   "source": [
    "real_power_data_dir = '../data/real_power/'\n",
    "\n",
    "df_staplegrove_observation = data.load_real_power_dataset(real_power_data_dir, site='Staplegrove_CB905', real_power_variable='observation_variable_half_hourly', time_period='_pre_august')\n",
    "df_staplegrove_target = data.load_real_power_dataset(real_power_data_dir, site='Staplegrove_CB905', real_power_variable='target_variable_half_hourly_max_min', time_period='_pre_august')\n",
    "\n",
    "df_staplegrove_target.head()"
   ]
  },
  {
   "cell_type": "code",
   "execution_count": null,
   "id": "03164eb4-7142-474d-b81b-f18854b5999c",
   "metadata": {},
   "outputs": [],
   "source": []
  },
  {
   "cell_type": "code",
   "execution_count": null,
   "id": "4f6202f1-3458-4ae2-b7f8-f31e79eabde5",
   "metadata": {},
   "outputs": [],
   "source": []
  },
  {
   "cell_type": "code",
   "execution_count": null,
   "id": "0a5d139f-445b-4149-a5c8-4a26473c58a2",
   "metadata": {},
   "outputs": [],
   "source": []
  },
  {
   "cell_type": "code",
   "execution_count": null,
   "id": "1807ccbd-23a1-48a2-aa7f-6a0976447c51",
   "metadata": {},
   "outputs": [],
   "source": []
  },
  {
   "cell_type": "code",
   "execution_count": null,
   "id": "8eebb55d-65d4-4c25-922a-81dd269b0d87",
   "metadata": {},
   "outputs": [],
   "source": []
  },
  {
   "cell_type": "code",
   "execution_count": 3,
   "id": "ad88de9e-9fd5-40ba-9e9d-4a644492aa02",
   "metadata": {},
   "outputs": [
    {
     "name": "stdout",
     "output_type": "stream",
     "text": [
      "Converted 01-data-processing.ipynb.\n",
      "Converted 02-spatial-analysis.ipynb.\n",
      "Converted 03-eda.ipynb.\n",
      "Converted 04-model-suite.ipynb.\n"
     ]
    }
   ],
   "source": [
    "#hide\n",
    "from nbdev.export import notebook2script\n",
    "    \n",
    "notebook2script()"
   ]
  },
  {
   "cell_type": "code",
   "execution_count": null,
   "id": "13d374d5-d40b-4e24-a05d-d1cc671f0222",
   "metadata": {},
   "outputs": [],
   "source": []
  }
 ],
 "metadata": {
  "kernelspec": {
   "display_name": "evtdemand",
   "language": "python",
   "name": "evtdemand"
  },
  "language_info": {
   "codemirror_mode": {
    "name": "ipython",
    "version": 3
   },
   "file_extension": ".py",
   "mimetype": "text/x-python",
   "name": "python",
   "nbconvert_exporter": "python",
   "pygments_lexer": "ipython3",
   "version": "3.9.7"
  }
 },
 "nbformat": 4,
 "nbformat_minor": 5
}
