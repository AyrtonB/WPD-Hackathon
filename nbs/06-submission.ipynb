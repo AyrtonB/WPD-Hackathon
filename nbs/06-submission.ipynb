{
 "cells": [
  {
   "cell_type": "markdown",
   "id": "b9b3a5fc-be6b-4965-bf7c-a5b233935944",
   "metadata": {},
   "source": [
    "# Submission\n",
    "\n",
    "<br>\n",
    "\n",
    "### Imports"
   ]
  },
  {
   "cell_type": "code",
   "execution_count": 1,
   "id": "c2e3a9e1-a9c9-452a-95c3-a9f0c1eb7ea2",
   "metadata": {},
   "outputs": [],
   "source": [
    "import numpy as np\n",
    "import pandas as pd\n",
    "\n",
    "from evtdemand import data, feature, suite"
   ]
  },
  {
   "cell_type": "code",
   "execution_count": null,
   "id": "3e7f8532-bf65-4ddf-a4ae-cf39254131a7",
   "metadata": {},
   "outputs": [],
   "source": []
  },
  {
   "cell_type": "code",
   "execution_count": 12,
   "id": "ce21a960-e8fb-49b5-96bb-8eb8734bde42",
   "metadata": {},
   "outputs": [],
   "source": [
    "params = {\n",
    "    'data_dir': '../data',\n",
    "    'model_1': 'lightgbm.LGBMRegressor', \n",
    "    'model_2': 'lightgbm.LGBMRegressor',\n",
    "    'model_1_kwargs': {\n",
    "        'num_leaves': 50,\n",
    "        'n_estimators': 100,\n",
    "        'reg_lambda': 0.1\n",
    "    },\n",
    "    'model_2_kwargs': {\n",
    "        'num_leaves': 50,\n",
    "        'n_estimators': 100,\n",
    "        'reg_lambda': 0.1\n",
    "    },\n",
    "    'data_kwargs': {\n",
    "        'real_power_sub_dir': 'real_power',\n",
    "        'weather_sub_dir': 'weather',\n",
    "        'real_power_time_period': '_pre_september',\n",
    "        'real_power_site': 'Staplegrove_CB905',\n",
    "        'weather_sites': ['staplegrove'],#, 'mousehole'],\n",
    "        'weather_grid_points': None,\n",
    "        'weather_interpolate_method': 'interpolate',\n",
    "        'use_target_delta': False\n",
    "    },\n",
    "    'y1_col': 'value_max',\n",
    "    'y2_col': 'value_min',\n",
    "    'split_kwargs': {\n",
    "        'n_splits': 5, \n",
    "        'shuffle': False\n",
    "    },\n",
    "    'cols_subset': None, \n",
    "    'features_kwargs': {\n",
    "        'features': ['temporal', 'dir_speed', 'lagged', 'demand', 'solar', 'roc'],\n",
    "        'feature_lags': {\n",
    "            'value': [1, 2, 3, 4, 5, 6, 48, 96, 336],\n",
    "            'solar_irradiance_staplegrove_1': [1, 2],\n",
    "            # 'solar_irradiance_staplegrove_2': [1, 2],\n",
    "            # 'solar_irradiance_staplegrove_3': [1, 2],\n",
    "            # 'solar_irradiance_staplegrove_4': [1, 2],\n",
    "            # 'solar_irradiance_staplegrove_5': [1, 2],\n",
    "            'temperature_staplegrove_1': [1, 2],\n",
    "            # 'temperature_staplegrove_2': [1, 2],\n",
    "            # 'temperature_staplegrove_3': [1, 2],\n",
    "            # 'temperature_staplegrove_4': [1, 2],\n",
    "            # 'temperature_staplegrove_5': [1, 2]\n",
    "        },\n",
    "        'roc_features': {\n",
    "            'value': 3\n",
    "        },\n",
    "        'sites': ['staplegrove'],\n",
    "        'grid_points': None\n",
    "    }\n",
    "}"
   ]
  },
  {
   "cell_type": "code",
   "execution_count": 13,
   "id": "fc85602c-bc8a-4ceb-9cf5-39a8b7f714b5",
   "metadata": {
    "tags": []
   },
   "outputs": [
    {
     "name": "stdout",
     "output_type": "stream",
     "text": [
      "Wall time: 10.5 s\n"
     ]
    },
    {
     "data": {
      "text/plain": [
       "{'y1_rmse': 9.564830632306506,\n",
       " 'y2_rmse': 10.61546968401076,\n",
       " 'combined_rmse': 14.33432205518877,\n",
       " 'skill_score': 0.46333919980844857}"
      ]
     },
     "execution_count": 13,
     "metadata": {},
     "output_type": "execute_result"
    }
   ],
   "source": [
    "%%time\n",
    "\n",
    "model_suite, error_metrics, df_pred, input_data = suite.run_parameterised_model(**params)\n",
    "\n",
    "error_metrics"
   ]
  },
  {
   "cell_type": "code",
   "execution_count": null,
   "id": "ce6780d7-8e97-4edb-8974-1d26f29cb7be",
   "metadata": {},
   "outputs": [],
   "source": []
  },
  {
   "cell_type": "code",
   "execution_count": 21,
   "id": "f48727d0-7031-483c-8b39-1cb043aec269",
   "metadata": {
    "tags": []
   },
   "outputs": [],
   "source": [
    "data_dir = params['data_dir']\n",
    "\n",
    "df_train_features, df_train_target = data.construct_baseline_features_target_dfs(data_dir, **params['data_kwargs'])\n",
    "df_train_features, *_ = feature.create_additional_features(df_train_features, **params['features_kwargs'])\n",
    "df_train_features = feature.process_features(df_train_features, cols_subset=params['cols_subset'])"
   ]
  },
  {
   "cell_type": "code",
   "execution_count": null,
   "id": "a1277d3f-37fd-4b31-a986-13bc6a11a70f",
   "metadata": {},
   "outputs": [],
   "source": []
  },
  {
   "cell_type": "code",
   "execution_count": 22,
   "id": "851a7d06-bc38-4e60-a0cd-16457914c421",
   "metadata": {
    "tags": []
   },
   "outputs": [
    {
     "data": {
      "text/plain": [
       "(1413, 78)"
      ]
     },
     "execution_count": 22,
     "metadata": {},
     "output_type": "execute_result"
    }
   ],
   "source": [
    "df_observation_submission = data.load_real_power_dataset(f'{data_dir}/real_power', site='Staplegrove_CB905', real_power_variable='observation_variable_half_hourly', time_period='_september')\n",
    "df_weather = data.load_weather_df(f'{data_dir}/weather', sites=['staplegrove'])\n",
    "\n",
    "common_idxs = df_observation_submission.index.intersection(df_weather.index)\n",
    "\n",
    "df_submission_features = df_observation_submission.loc[common_idxs].copy()\n",
    "df_submission_features[df_weather.columns] = df_weather.loc[common_idxs].copy()\n",
    "\n",
    "df_train_features_subset, df_train_target_subset = data.construct_baseline_features_target_dfs(data_dir, **params['data_kwargs'])\n",
    "df_features_combined = df_train_features_subset.append(df_submission_features)\n",
    "df_submission_features, *_ = feature.create_additional_features(df_features_combined, df_train_target_subset.reindex(df_features_combined.index), **params['features_kwargs'])\n",
    "df_submission_features = feature.process_features(df_submission_features, cols_subset=params['cols_subset'])\n",
    "df_submission_features = df_submission_features.loc[common_idxs]\n",
    "\n",
    "X_submission = df_submission_features.values\n",
    "\n",
    "X_submission.shape"
   ]
  },
  {
   "cell_type": "code",
   "execution_count": null,
   "id": "b6b00979-cc82-46ac-89e1-9aa36ec6b823",
   "metadata": {},
   "outputs": [],
   "source": []
  },
  {
   "cell_type": "code",
   "execution_count": 23,
   "id": "bd2241c1-a2e9-4449-a5d3-fed2c27d7e11",
   "metadata": {},
   "outputs": [
    {
     "data": {
      "text/html": [
       "<div>\n",
       "<style scoped>\n",
       "    .dataframe tbody tr th:only-of-type {\n",
       "        vertical-align: middle;\n",
       "    }\n",
       "\n",
       "    .dataframe tbody tr th {\n",
       "        vertical-align: top;\n",
       "    }\n",
       "\n",
       "    .dataframe thead th {\n",
       "        text-align: right;\n",
       "    }\n",
       "</style>\n",
       "<table border=\"1\" class=\"dataframe\">\n",
       "  <thead>\n",
       "    <tr style=\"text-align: right;\">\n",
       "      <th></th>\n",
       "      <th>value_max</th>\n",
       "      <th>value_min</th>\n",
       "    </tr>\n",
       "    <tr>\n",
       "      <th>time</th>\n",
       "      <th></th>\n",
       "      <th></th>\n",
       "    </tr>\n",
       "  </thead>\n",
       "  <tbody>\n",
       "    <tr>\n",
       "      <th>2021-09-01 00:00:00</th>\n",
       "      <td>0.638257</td>\n",
       "      <td>0.587787</td>\n",
       "    </tr>\n",
       "    <tr>\n",
       "      <th>2021-09-01 00:30:00</th>\n",
       "      <td>0.616864</td>\n",
       "      <td>0.565895</td>\n",
       "    </tr>\n",
       "    <tr>\n",
       "      <th>2021-09-01 01:00:00</th>\n",
       "      <td>0.578921</td>\n",
       "      <td>0.530042</td>\n",
       "    </tr>\n",
       "    <tr>\n",
       "      <th>2021-09-01 01:30:00</th>\n",
       "      <td>0.556713</td>\n",
       "      <td>0.489746</td>\n",
       "    </tr>\n",
       "    <tr>\n",
       "      <th>2021-09-01 02:00:00</th>\n",
       "      <td>0.531277</td>\n",
       "      <td>0.483053</td>\n",
       "    </tr>\n",
       "  </tbody>\n",
       "</table>\n",
       "</div>"
      ],
      "text/plain": [
       "                     value_max  value_min\n",
       "time                                     \n",
       "2021-09-01 00:00:00   0.638257   0.587787\n",
       "2021-09-01 00:30:00   0.616864   0.565895\n",
       "2021-09-01 01:00:00   0.578921   0.530042\n",
       "2021-09-01 01:30:00   0.556713   0.489746\n",
       "2021-09-01 02:00:00   0.531277   0.483053"
      ]
     },
     "execution_count": 23,
     "metadata": {},
     "output_type": "execute_result"
    }
   ],
   "source": [
    "df_pred = model_suite.run_submission(\n",
    "    df_train_target,\n",
    "    df_train_features,\n",
    "    df_submission_features,\n",
    "    save_submission=True\n",
    ")\n",
    "\n",
    "df_pred.head()"
   ]
  },
  {
   "cell_type": "code",
   "execution_count": null,
   "id": "89795585-87a7-4312-96be-40ffd66958f7",
   "metadata": {},
   "outputs": [],
   "source": []
  },
  {
   "cell_type": "code",
   "execution_count": 26,
   "id": "c6403a13-536a-4c80-9bab-6af624152da3",
   "metadata": {},
   "outputs": [],
   "source": [
    "save = False\n",
    "fp = f'../data/params/archive/params - {pd.Timestamp.now().strftime(\"%Y-%m-%d %H-%M-%S\")}.yml'\n",
    "\n",
    "if save == True:\n",
    "    suite.save_params(input_data, fp)"
   ]
  },
  {
   "cell_type": "code",
   "execution_count": null,
   "id": "d1ac2764-7b4d-423b-ba39-a12b8a4df993",
   "metadata": {},
   "outputs": [],
   "source": []
  },
  {
   "cell_type": "code",
   "execution_count": null,
   "id": "1560c906-4ff2-4b7f-be26-244b0dacae8e",
   "metadata": {},
   "outputs": [],
   "source": [
    "# do feature permutation importance\n",
    "# should shuffle the indexes before training in the run_submission method of the suite class\n",
    "# add in a long-term trend term\n",
    "# get the settlement period feature working and compare with time-of-day\n",
    "# try xgboost\n",
    "\n",
    "# give the spread distribution params with a 12 month lag\n",
    "# look into resampling later dates more - weighted bootstrapping?\n",
    "# start visualising the model tuning/decisions (LIME?) - https://www.scikit-yb.org/en/latest/api/model_selection/validation_curve.html\n",
    "# can we create a `feels like` temperature?\n",
    "# try a stacked regressor - http://rasbt.github.io/mlxtend/user_guide/regressor/StackingRegressor/\n",
    "# create an example pytorch model with skorch - https://github.com/skorch-dev/skorch\n",
    "# get some automated model tuning running with skopt or sk-deap"
   ]
  },
  {
   "cell_type": "code",
   "execution_count": null,
   "id": "f0688016-a329-43f3-98ea-cfce056c0101",
   "metadata": {},
   "outputs": [],
   "source": []
  }
 ],
 "metadata": {
  "kernelspec": {
   "display_name": "evtdemand",
   "language": "python",
   "name": "evtdemand"
  },
  "language_info": {
   "codemirror_mode": {
    "name": "ipython",
    "version": 3
   },
   "file_extension": ".py",
   "mimetype": "text/x-python",
   "name": "python",
   "nbconvert_exporter": "python",
   "pygments_lexer": "ipython3",
   "version": "3.9.7"
  }
 },
 "nbformat": 4,
 "nbformat_minor": 5
}
