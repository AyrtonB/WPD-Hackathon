{
 "cells": [
  {
   "cell_type": "markdown",
   "id": "055bcfc9-0771-4697-a6e6-f970fef6f4e3",
   "metadata": {},
   "source": [
    "# Experiments\n",
    "\n",
    "\n",
    "<br>\n",
    "\n",
    "### Imports"
   ]
  },
  {
   "cell_type": "code",
   "execution_count": 1,
   "id": "42de6bf6-b5bc-4613-9671-f36aac872fe2",
   "metadata": {},
   "outputs": [],
   "source": [
    "import numpy as np\n",
    "import pandas as pd\n",
    "\n",
    "import copy\n",
    "from tqdm import tqdm\n",
    "\n",
    "from sklearn.inspection import permutation_importance\n",
    "from mlxtend.feature_selection import SequentialFeatureSelector as SFS\n",
    "\n",
    "from evtdemand import suite, data, feature"
   ]
  },
  {
   "cell_type": "code",
   "execution_count": 2,
   "id": "90287547-9b43-4a8c-a970-d0949f288eb3",
   "metadata": {},
   "outputs": [],
   "source": [
    "from IPython.display import JSON"
   ]
  },
  {
   "cell_type": "code",
   "execution_count": null,
   "id": "7a262194-c795-449c-a433-89cf262738ed",
   "metadata": {},
   "outputs": [],
   "source": []
  },
  {
   "cell_type": "code",
   "execution_count": 3,
   "id": "9f86931b-564e-4948-b788-73f719066f37",
   "metadata": {},
   "outputs": [],
   "source": [
    "default_params = {\n",
    "    'data_dir': '../data',\n",
    "    'model_1': 'lightgbm.LGBMRegressor', \n",
    "    'model_2': 'lightgbm.LGBMRegressor',\n",
    "    'model_1_kwargs': {\n",
    "        'num_leaves': 50,\n",
    "        'n_estimators': 100,\n",
    "        'reg_lambda': 0.1\n",
    "    },\n",
    "    'model_2_kwargs': {\n",
    "        'num_leaves': 50,\n",
    "        'n_estimators': 100,\n",
    "        'reg_lambda': 0.1\n",
    "    },\n",
    "    'data_kwargs': {\n",
    "        'real_power_sub_dir': 'real_power',\n",
    "        'weather_sub_dir': 'weather',\n",
    "        'real_power_time_period': '_pre_august',\n",
    "        'real_power_site': 'Staplegrove_CB905',\n",
    "        'weather_grid_point': 'staplegrove_1',\n",
    "        'weather_interpolate_method': 'interpolate'\n",
    "    },\n",
    "    'y1_col': 'value_max',\n",
    "    'y2_col': 'value_min',\n",
    "    'split_kwargs': {\n",
    "        'n_splits': 5, \n",
    "        'shuffle': False\n",
    "    },\n",
    "    'cols_subset': ['value', 'temperature', 'solar_irradiance', 'pressure',\n",
    "                    'spec_humidity', 'hour', 'windspeed_north', 'windspeed_east',\n",
    "                    'doy', 'speed', 'direction', 'weekend', 'hcdh'],#, 'prev_month_max_avg',\n",
    "                    #'prev_month_max_max', 'prev_month_min_avg', 'prev_month_min_min'],\n",
    "    'features_kwargs': {\n",
    "        'features': ['temporal', 'dir_speed', 'hcdh']\n",
    "    }\n",
    "}"
   ]
  },
  {
   "cell_type": "code",
   "execution_count": null,
   "id": "3e564aeb-64ba-4544-bddb-9e876eb001e1",
   "metadata": {},
   "outputs": [],
   "source": []
  },
  {
   "cell_type": "code",
   "execution_count": 4,
   "id": "41333794-46fc-4e8d-9fdb-ee7aba2932d1",
   "metadata": {
    "tags": []
   },
   "outputs": [
    {
     "name": "stdout",
     "output_type": "stream",
     "text": [
      "Wall time: 12.4 s\n"
     ]
    },
    {
     "data": {
      "text/plain": [
       "{'y1_rmse': 10.389345154377155,\n",
       " 'y2_rmse': 11.177505324655117,\n",
       " 'combined_rmse': 15.305702367282791,\n",
       " 'skill_score': 0.5152324587016828}"
      ]
     },
     "execution_count": 4,
     "metadata": {},
     "output_type": "execute_result"
    }
   ],
   "source": [
    "%%time\n",
    "\n",
    "model_suite, error_metrics, df_pred, input_data = suite.run_parameterised_model(**default_params)\n",
    "\n",
    "error_metrics"
   ]
  },
  {
   "cell_type": "code",
   "execution_count": null,
   "id": "df3efc65-c55f-4f32-87d2-1b0f5621af9b",
   "metadata": {},
   "outputs": [],
   "source": []
  },
  {
   "cell_type": "code",
   "execution_count": 9,
   "id": "446b97b9-b50a-4505-b0b5-e1295233dcca",
   "metadata": {
    "tags": []
   },
   "outputs": [
    {
     "name": "stdout",
     "output_type": "stream",
     "text": [
      "Wall time: 21.3 s\n"
     ]
    },
    {
     "data": {
      "text/plain": [
       "(0.5173457556059888, 0.5149958383696378, 0.5152324587016828)"
      ]
     },
     "execution_count": 9,
     "metadata": {},
     "output_type": "execute_result"
    }
   ],
   "source": [
    "%%time \n",
    "\n",
    "# comparing the two wind speed encodings\n",
    "\n",
    "params = copy.deepcopy(default_params)\n",
    "\n",
    "params['cols_subset'] = ['value', 'temperature', 'solar_irradiance', 'pressure',\n",
    "                         'spec_humidity', 'hour', 'doy', 'speed', 'direction', 'weekend', 'hcdh']\n",
    "model_suite, error_metrics, df_pred, input_data = suite.run_parameterised_model(**params)\n",
    "vectors_error = error_metrics['skill_score']\n",
    "\n",
    "params['cols_subset'] = ['value', 'temperature', 'solar_irradiance', 'pressure', 'spec_humidity', \n",
    "                         'hour', 'windspeed_north', 'windspeed_east', 'doy', 'weekend', 'hcdh']\n",
    "model_suite, error_metrics, df_pred, input_data = suite.run_parameterised_model(**params)\n",
    "speed_dir_error = error_metrics['skill_score']\n",
    "\n",
    "params['cols_subset'] = ['value', 'temperature', 'solar_irradiance', 'pressure', 'spec_humidity', 'speed', \n",
    "                         'direction', 'hour', 'windspeed_north', 'windspeed_east', 'doy', 'weekend', 'hcdh']\n",
    "model_suite, error_metrics, df_pred, input_data = suite.run_parameterised_model(**params)\n",
    "both_error = error_metrics['skill_score']\n",
    "\n",
    "\n",
    "vectors_error, speed_dir_error, both_error"
   ]
  },
  {
   "cell_type": "code",
   "execution_count": null,
   "id": "8b792238-0a11-4039-a8ba-0326adcee72b",
   "metadata": {},
   "outputs": [],
   "source": []
  },
  {
   "cell_type": "code",
   "execution_count": 12,
   "id": "4cdbb08c-ee17-4352-9a9d-03e31d2c65f2",
   "metadata": {},
   "outputs": [
    {
     "name": "stdout",
     "output_type": "stream",
     "text": [
      "Wall time: 20.4 s\n"
     ]
    },
    {
     "data": {
      "text/plain": [
       "(0.5173457556059888, 0.5129837273817897, 0.512808435323487)"
      ]
     },
     "execution_count": 12,
     "metadata": {},
     "output_type": "execute_result"
    }
   ],
   "source": [
    "%%time \n",
    "\n",
    "# comparing the local and utc hour features\n",
    "\n",
    "params = copy.deepcopy(default_params)\n",
    "\n",
    "params['cols_subset'] = ['value', 'temperature', 'solar_irradiance', 'pressure',\n",
    "                         'spec_humidity', 'hour', 'doy', 'speed', 'direction', 'weekend', 'hcdh']\n",
    "model_suite, error_metrics, df_pred, input_data = suite.run_parameterised_model(**params)\n",
    "utc_hour_error = error_metrics['skill_score']\n",
    "\n",
    "params['cols_subset'] = ['value', 'temperature', 'solar_irradiance', 'pressure', 'spec_humidity', \n",
    "                         'local_hour', 'windspeed_north', 'windspeed_east', 'doy', 'weekend', 'hcdh']\n",
    "model_suite, error_metrics, df_pred, input_data = suite.run_parameterised_model(**params)\n",
    "local_hour_error = error_metrics['skill_score']\n",
    "\n",
    "params['cols_subset'] = ['value', 'temperature', 'solar_irradiance', 'pressure', 'spec_humidity', \n",
    "                         'hour', 'local_hour', 'windspeed_north', 'windspeed_east', 'doy', 'weekend', 'hcdh']\n",
    "model_suite, error_metrics, df_pred, input_data = suite.run_parameterised_model(**params)\n",
    "both_hours_error = error_metrics['skill_score']\n",
    "\n",
    "\n",
    "utc_hour_error, local_hour_error, both_hours_error"
   ]
  },
  {
   "cell_type": "code",
   "execution_count": null,
   "id": "45a937b3-1269-4d12-a660-f59118102d4e",
   "metadata": {},
   "outputs": [],
   "source": []
  },
  {
   "cell_type": "code",
   "execution_count": 6,
   "id": "0af4dad4-e55d-467d-b58c-d749c2614de8",
   "metadata": {},
   "outputs": [
    {
     "name": "stderr",
     "output_type": "stream",
     "text": [
      "100%|████████████████████████████████████████████████████████████████████████████████████| 5/5 [00:23<00:00,  4.68s/it]\n"
     ]
    },
    {
     "data": {
      "text/html": [
       "<div>\n",
       "<style scoped>\n",
       "    .dataframe tbody tr th:only-of-type {\n",
       "        vertical-align: middle;\n",
       "    }\n",
       "\n",
       "    .dataframe tbody tr th {\n",
       "        vertical-align: top;\n",
       "    }\n",
       "\n",
       "    .dataframe thead th {\n",
       "        text-align: right;\n",
       "    }\n",
       "</style>\n",
       "<table border=\"1\" class=\"dataframe\">\n",
       "  <thead>\n",
       "    <tr style=\"text-align: right;\">\n",
       "      <th></th>\n",
       "      <th>y1_rmse</th>\n",
       "      <th>y2_rmse</th>\n",
       "      <th>combined_rmse</th>\n",
       "      <th>skill_score</th>\n",
       "    </tr>\n",
       "    <tr>\n",
       "      <th>run_id</th>\n",
       "      <th></th>\n",
       "      <th></th>\n",
       "      <th></th>\n",
       "      <th></th>\n",
       "    </tr>\n",
       "  </thead>\n",
       "  <tbody>\n",
       "    <tr>\n",
       "      <th>0</th>\n",
       "      <td>17.657929</td>\n",
       "      <td>17.963724</td>\n",
       "      <td>25.195639</td>\n",
       "      <td>0.522551</td>\n",
       "    </tr>\n",
       "    <tr>\n",
       "      <th>1</th>\n",
       "      <td>14.212972</td>\n",
       "      <td>14.888986</td>\n",
       "      <td>20.606912</td>\n",
       "      <td>0.526670</td>\n",
       "    </tr>\n",
       "    <tr>\n",
       "      <th>2</th>\n",
       "      <td>11.898792</td>\n",
       "      <td>12.542129</td>\n",
       "      <td>17.324525</td>\n",
       "      <td>0.522463</td>\n",
       "    </tr>\n",
       "    <tr>\n",
       "      <th>3</th>\n",
       "      <td>10.389345</td>\n",
       "      <td>11.177505</td>\n",
       "      <td>15.305702</td>\n",
       "      <td>0.515232</td>\n",
       "    </tr>\n",
       "    <tr>\n",
       "      <th>4</th>\n",
       "      <td>9.622927</td>\n",
       "      <td>10.113562</td>\n",
       "      <td>14.011024</td>\n",
       "      <td>0.522844</td>\n",
       "    </tr>\n",
       "  </tbody>\n",
       "</table>\n",
       "</div>"
      ],
      "text/plain": [
       "          y1_rmse    y2_rmse  combined_rmse  skill_score\n",
       "run_id                                                  \n",
       "0       17.657929  17.963724      25.195639     0.522551\n",
       "1       14.212972  14.888986      20.606912     0.526670\n",
       "2       11.898792  12.542129      17.324525     0.522463\n",
       "3       10.389345  11.177505      15.305702     0.515232\n",
       "4        9.622927  10.113562      14.011024     0.522844"
      ]
     },
     "execution_count": 6,
     "metadata": {},
     "output_type": "execute_result"
    }
   ],
   "source": [
    "# investigating the impact of reduced training size\n",
    "\n",
    "df_results = pd.DataFrame()\n",
    "all_input_data = []\n",
    "test_splits = list(range(2, 7))\n",
    "params = copy.deepcopy(default_params)\n",
    "\n",
    "for run_id, test_split in tqdm(enumerate(test_splits), total=len(test_splits)):    \n",
    "    params['split_kwargs'] = {'n_splits': test_split, 'shuffle': False}\n",
    "    model_suite, error_metrics, df_pred, input_data = suite.run_parameterised_model(**params)\n",
    "    \n",
    "    df_results = df_results.append(pd.DataFrame([error_metrics], index=[run_id]))\n",
    "    all_input_data += [input_data]\n",
    "\n",
    "df_results.index.name = 'run_id'\n",
    "    \n",
    "df_results"
   ]
  },
  {
   "cell_type": "code",
   "execution_count": null,
   "id": "116a7260-f264-4cc6-9c36-3afd72dab0d4",
   "metadata": {},
   "outputs": [],
   "source": []
  },
  {
   "cell_type": "code",
   "execution_count": 7,
   "id": "a6a807e1-84d8-4427-a9db-dc540abde6e5",
   "metadata": {},
   "outputs": [
    {
     "name": "stdout",
     "output_type": "stream",
     "text": [
      "Wall time: 6.16 s\n"
     ]
    },
    {
     "data": {
      "text/plain": [
       "{'y1_rmse': 10.389345154377155,\n",
       " 'y2_rmse': 11.177505324655117,\n",
       " 'combined_rmse': 15.305702367282791,\n",
       " 'skill_score': 0.5152324587016828}"
      ]
     },
     "execution_count": 7,
     "metadata": {},
     "output_type": "execute_result"
    }
   ],
   "source": [
    "%%time\n",
    "\n",
    "# tuning lightgbm params\n",
    "\n",
    "params = copy.deepcopy(default_params)\n",
    "\n",
    "params['model_1'] = 'lightgbm.LGBMRegressor'\n",
    "params['model_2'] = 'lightgbm.LGBMRegressor'\n",
    "params['model_1_kwargs'] = {\n",
    "    'num_leaves': 50,\n",
    "    'n_estimators': 100,\n",
    "    'reg_lambda': 0.1\n",
    "}\n",
    "params['model_2_kwargs'] = {\n",
    "    'num_leaves': 50,\n",
    "    'n_estimators': 100,\n",
    "    'reg_lambda': 0.1\n",
    "}\n",
    "\n",
    "model_suite, error_metrics, df_pred, input_data = suite.run_parameterised_model(**params)\n",
    "\n",
    "error_metrics"
   ]
  },
  {
   "cell_type": "code",
   "execution_count": null,
   "id": "97d50713-b5a1-4245-aa2b-9b81968a2780",
   "metadata": {},
   "outputs": [],
   "source": []
  },
  {
   "cell_type": "code",
   "execution_count": 37,
   "id": "9bf1f49a-5d9f-4e8a-aa25-b89d06bc0c03",
   "metadata": {},
   "outputs": [
    {
     "name": "stdout",
     "output_type": "stream",
     "text": [
      "Wall time: 19.3 s\n"
     ]
    },
    {
     "data": {
      "text/plain": [
       "{'y1_rmse': 10.480886415534037,\n",
       " 'y2_rmse': 11.635572301565517,\n",
       " 'combined_rmse': 15.711933251348455,\n",
       " 'skill_score': 0.5287247045208947}"
      ]
     },
     "execution_count": 37,
     "metadata": {},
     "output_type": "execute_result"
    }
   ],
   "source": [
    "%%time\n",
    "\n",
    "# tuning xgboost params\n",
    "\n",
    "params = copy.deepcopy(default_params)\n",
    "\n",
    "params['model_1'] = 'xgboost.XGBRegressor'\n",
    "params['model_2'] = 'xgboost.XGBRegressor'\n",
    "params['model_1_kwargs'] = {\n",
    "    'max_depth': 3,\n",
    "    'min_child_weight': 1,\n",
    "    'eta': 0.2,\n",
    "    'subsample': 1,\n",
    "    'colsample_bytree': 1,\n",
    "    'objective':'reg:squarederror',\n",
    "}\n",
    "params['model_2_kwargs'] = {\n",
    "    'max_depth': 3,\n",
    "    'min_child_weight': 1,\n",
    "    'eta': 0.2,\n",
    "    'subsample': 1,\n",
    "    'colsample_bytree': 1,\n",
    "    'objective':'reg:squarederror',\n",
    "}\n",
    "\n",
    "model_suite, error_metrics, df_pred, input_data = suite.run_parameterised_model(**params)\n",
    "\n",
    "error_metrics"
   ]
  },
  {
   "cell_type": "code",
   "execution_count": 36,
   "id": "bc3b4433-827e-4226-abda-b68badaf9830",
   "metadata": {},
   "outputs": [],
   "source": [
    "# 0.52872470 <- max_depth=3, eta=0.2"
   ]
  },
  {
   "cell_type": "code",
   "execution_count": null,
   "id": "9dbd871d-984a-4f72-ad11-e6c885c18254",
   "metadata": {},
   "outputs": [],
   "source": []
  },
  {
   "cell_type": "code",
   "execution_count": 6,
   "id": "f184845a-17ee-4600-b7df-0ecd11380da5",
   "metadata": {},
   "outputs": [
    {
     "data": {
      "text/plain": [
       "LGBMRegressor(num_leaves=50, reg_lambda=0.1)"
      ]
     },
     "execution_count": 6,
     "metadata": {},
     "output_type": "execute_result"
    }
   ],
   "source": [
    "# assessing feature importance\n",
    "\n",
    "df_features, df_target = data.construct_baseline_features_target_dfs(default_params['data_dir'], **default_params['data_kwargs'])\n",
    "df_features = feature.create_additional_features(df_features, df_target, **default_params['features_kwargs'])\n",
    "df_features = feature.process_features(df_features, cols_subset=default_params['cols_subset'])\n",
    "\n",
    "model_1 = suite.load_module_attr(default_params['model_1'])(**default_params['model_1_kwargs'])\n",
    "model_2 = suite.load_module_attr(default_params['model_2'])(**default_params['model_2_kwargs'])\n",
    "\n",
    "model_1"
   ]
  },
  {
   "cell_type": "code",
   "execution_count": null,
   "id": "944ca08c-07ee-430a-87b2-a9b4bcd410f1",
   "metadata": {},
   "outputs": [],
   "source": []
  },
  {
   "cell_type": "code",
   "execution_count": 18,
   "id": "39916ac3-4a8b-44cc-a586-581c6955bcde",
   "metadata": {},
   "outputs": [],
   "source": [
    "def clean_subsets(sfs):\n",
    "    subsets = sfs.subsets_\n",
    "\n",
    "    for idx, res in subsets.items():\n",
    "        res['cv_scores'] = list(res['cv_scores'])\n",
    "\n",
    "    return subsets"
   ]
  },
  {
   "cell_type": "code",
   "execution_count": 19,
   "id": "95b7c5f2-2afa-4dcd-a464-6ed6daa32373",
   "metadata": {},
   "outputs": [
    {
     "name": "stderr",
     "output_type": "stream",
     "text": [
      "[Parallel(n_jobs=1)]: Using backend SequentialBackend with 1 concurrent workers.\n",
      "[Parallel(n_jobs=1)]: Done  13 out of  13 | elapsed:    6.8s finished\n",
      "Features: 1/13[Parallel(n_jobs=1)]: Using backend SequentialBackend with 1 concurrent workers.\n",
      "[Parallel(n_jobs=1)]: Done  12 out of  12 | elapsed:    5.5s finished\n",
      "Features: 2/13[Parallel(n_jobs=1)]: Using backend SequentialBackend with 1 concurrent workers.\n",
      "[Parallel(n_jobs=1)]: Done  11 out of  11 | elapsed:    5.5s finished\n",
      "Features: 3/13[Parallel(n_jobs=1)]: Using backend SequentialBackend with 1 concurrent workers.\n",
      "[Parallel(n_jobs=1)]: Done  10 out of  10 | elapsed:    4.6s finished\n",
      "Features: 4/13[Parallel(n_jobs=1)]: Using backend SequentialBackend with 1 concurrent workers.\n",
      "[Parallel(n_jobs=1)]: Done   9 out of   9 | elapsed:    3.6s finished\n",
      "Features: 5/13[Parallel(n_jobs=1)]: Using backend SequentialBackend with 1 concurrent workers.\n",
      "[Parallel(n_jobs=1)]: Done   8 out of   8 | elapsed:    4.0s finished\n",
      "Features: 6/13[Parallel(n_jobs=1)]: Using backend SequentialBackend with 1 concurrent workers.\n",
      "[Parallel(n_jobs=1)]: Done   7 out of   7 | elapsed:    3.0s finished\n",
      "Features: 7/13[Parallel(n_jobs=1)]: Using backend SequentialBackend with 1 concurrent workers.\n",
      "[Parallel(n_jobs=1)]: Done   6 out of   6 | elapsed:    3.5s finished\n",
      "Features: 8/13[Parallel(n_jobs=1)]: Using backend SequentialBackend with 1 concurrent workers.\n",
      "[Parallel(n_jobs=1)]: Done   5 out of   5 | elapsed:    2.6s finished\n",
      "Features: 9/13[Parallel(n_jobs=1)]: Using backend SequentialBackend with 1 concurrent workers.\n",
      "[Parallel(n_jobs=1)]: Done   4 out of   4 | elapsed:    2.1s finished\n",
      "Features: 10/13[Parallel(n_jobs=1)]: Using backend SequentialBackend with 1 concurrent workers.\n",
      "[Parallel(n_jobs=1)]: Done   3 out of   3 | elapsed:    1.5s finished\n",
      "Features: 11/13[Parallel(n_jobs=1)]: Using backend SequentialBackend with 1 concurrent workers.\n",
      "[Parallel(n_jobs=1)]: Done   2 out of   2 | elapsed:    1.1s finished\n",
      "Features: 12/13[Parallel(n_jobs=1)]: Using backend SequentialBackend with 1 concurrent workers.\n",
      "[Parallel(n_jobs=1)]: Done   1 out of   1 | elapsed:    0.5s finished\n",
      "Features: 13/13"
     ]
    },
    {
     "name": "stdout",
     "output_type": "stream",
     "text": [
      "Wall time: 45.8 s\n"
     ]
    },
    {
     "data": {
      "application/json": {
       "1": {
        "avg_score": -0.02502056069617867,
        "cv_scores": [
         -0.02502056069617867
        ],
        "feature_idx": [
         0
        ],
        "feature_names": [
         "0"
        ]
       },
       "10": {
        "avg_score": -0.006274312575437872,
        "cv_scores": [
         -0.006274312575437872
        ],
        "feature_idx": [
         0,
         2,
         3,
         4,
         5,
         6,
         7,
         8,
         11,
         12
        ],
        "feature_names": [
         "0",
         "2",
         "3",
         "4",
         "5",
         "6",
         "7",
         "8",
         "11",
         "12"
        ]
       },
       "11": {
        "avg_score": -0.0061720361273954055,
        "cv_scores": [
         -0.0061720361273954055
        ],
        "feature_idx": [
         0,
         2,
         3,
         4,
         5,
         6,
         7,
         8,
         9,
         11,
         12
        ],
        "feature_names": [
         "0",
         "2",
         "3",
         "4",
         "5",
         "6",
         "7",
         "8",
         "9",
         "11",
         "12"
        ]
       },
       "12": {
        "avg_score": -0.006131450204081381,
        "cv_scores": [
         -0.006131450204081381
        ],
        "feature_idx": [
         0,
         2,
         3,
         4,
         5,
         6,
         7,
         8,
         9,
         10,
         11,
         12
        ],
        "feature_names": [
         "0",
         "2",
         "3",
         "4",
         "5",
         "6",
         "7",
         "8",
         "9",
         "10",
         "11",
         "12"
        ]
       },
       "13": {
        "avg_score": -0.006105317181479962,
        "cv_scores": [
         -0.006105317181479962
        ],
        "feature_idx": [
         0,
         1,
         2,
         3,
         4,
         5,
         6,
         7,
         8,
         9,
         10,
         11,
         12
        ],
        "feature_names": [
         "0",
         "1",
         "2",
         "3",
         "4",
         "5",
         "6",
         "7",
         "8",
         "9",
         "10",
         "11",
         "12"
        ]
       },
       "2": {
        "avg_score": -0.01573588797852347,
        "cv_scores": [
         -0.01573588797852347
        ],
        "feature_idx": [
         0,
         8
        ],
        "feature_names": [
         "0",
         "8"
        ]
       },
       "3": {
        "avg_score": -0.011223976955154116,
        "cv_scores": [
         -0.011223976955154116
        ],
        "feature_idx": [
         0,
         7,
         8
        ],
        "feature_names": [
         "0",
         "7",
         "8"
        ]
       },
       "4": {
        "avg_score": -0.008859852738143378,
        "cv_scores": [
         -0.008859852738143378
        ],
        "feature_idx": [
         0,
         5,
         7,
         8
        ],
        "feature_names": [
         "0",
         "5",
         "7",
         "8"
        ]
       },
       "5": {
        "avg_score": -0.007773131919574064,
        "cv_scores": [
         -0.007773131919574064
        ],
        "feature_idx": [
         0,
         5,
         6,
         7,
         8
        ],
        "feature_names": [
         "0",
         "5",
         "6",
         "7",
         "8"
        ]
       },
       "6": {
        "avg_score": -0.00695448865600177,
        "cv_scores": [
         -0.00695448865600177
        ],
        "feature_idx": [
         0,
         4,
         5,
         6,
         7,
         8
        ],
        "feature_names": [
         "0",
         "4",
         "5",
         "6",
         "7",
         "8"
        ]
       },
       "7": {
        "avg_score": -0.006684937124886985,
        "cv_scores": [
         -0.006684937124886985
        ],
        "feature_idx": [
         0,
         3,
         4,
         5,
         6,
         7,
         8
        ],
        "feature_names": [
         "0",
         "3",
         "4",
         "5",
         "6",
         "7",
         "8"
        ]
       },
       "8": {
        "avg_score": -0.006526485062255152,
        "cv_scores": [
         -0.006526485062255152
        ],
        "feature_idx": [
         0,
         3,
         4,
         5,
         6,
         7,
         8,
         12
        ],
        "feature_names": [
         "0",
         "3",
         "4",
         "5",
         "6",
         "7",
         "8",
         "12"
        ]
       },
       "9": {
        "avg_score": -0.00646554667911553,
        "cv_scores": [
         -0.00646554667911553
        ],
        "feature_idx": [
         0,
         2,
         3,
         4,
         5,
         6,
         7,
         8,
         12
        ],
        "feature_names": [
         "0",
         "2",
         "3",
         "4",
         "5",
         "6",
         "7",
         "8",
         "12"
        ]
       }
      },
      "text/plain": [
       "<IPython.core.display.JSON object>"
      ]
     },
     "execution_count": 19,
     "metadata": {
      "application/json": {
       "expanded": false,
       "root": "root"
      }
     },
     "output_type": "execute_result"
    }
   ],
   "source": [
    "%%time\n",
    "\n",
    "X, y = df_features.values, df_target['value_max'].values\n",
    "\n",
    "sfs1 = SFS(model_1, \n",
    "           k_features=df_features.shape[1], \n",
    "           forward=True, \n",
    "           floating=False, \n",
    "           verbose=1,\n",
    "           scoring='neg_mean_squared_error',\n",
    "           cv=0)\n",
    "\n",
    "sfs1 = sfs1.fit(X, y)\n",
    "\n",
    "JSON(clean_subsets(sfs1))"
   ]
  },
  {
   "cell_type": "code",
   "execution_count": null,
   "id": "31127c82-d697-474e-8b93-0d2b8aab2698",
   "metadata": {},
   "outputs": [],
   "source": []
  },
  {
   "cell_type": "code",
   "execution_count": 20,
   "id": "4c51b6b2-95ac-4fde-a73e-3188a3464fed",
   "metadata": {},
   "outputs": [
    {
     "name": "stderr",
     "output_type": "stream",
     "text": [
      "[Parallel(n_jobs=1)]: Using backend SequentialBackend with 1 concurrent workers.\n",
      "[Parallel(n_jobs=1)]: Done  13 out of  13 | elapsed:    8.4s finished\n",
      "Features: 12/10[Parallel(n_jobs=1)]: Using backend SequentialBackend with 1 concurrent workers.\n",
      "[Parallel(n_jobs=1)]: Done  12 out of  12 | elapsed:    7.6s finished\n",
      "Features: 11/10[Parallel(n_jobs=1)]: Using backend SequentialBackend with 1 concurrent workers.\n",
      "[Parallel(n_jobs=1)]: Done  11 out of  11 | elapsed:    6.5s finished\n",
      "Features: 10/10"
     ]
    },
    {
     "name": "stdout",
     "output_type": "stream",
     "text": [
      "Wall time: 23.5 s\n"
     ]
    },
    {
     "data": {
      "application/json": {
       "10": {
        "avg_score": -0.006312043537652557,
        "cv_scores": [
         -0.006312043537652557
        ],
        "feature_idx": [
         0,
         1,
         2,
         3,
         4,
         5,
         6,
         7,
         8,
         10
        ],
        "feature_names": [
         "0",
         "1",
         "2",
         "3",
         "4",
         "5",
         "6",
         "7",
         "8",
         "10"
        ]
       },
       "11": {
        "avg_score": -0.006246395431150615,
        "cv_scores": [
         -0.006246395431150615
        ],
        "feature_idx": [
         0,
         1,
         2,
         3,
         4,
         5,
         6,
         7,
         8,
         10,
         12
        ],
        "feature_names": [
         "0",
         "1",
         "2",
         "3",
         "4",
         "5",
         "6",
         "7",
         "8",
         "10",
         "12"
        ]
       },
       "12": {
        "avg_score": -0.006080810870936775,
        "cv_scores": [
         -0.006080810870936775
        ],
        "feature_idx": [
         0,
         1,
         2,
         3,
         4,
         5,
         6,
         7,
         8,
         10,
         11,
         12
        ],
        "feature_names": [
         "0",
         "1",
         "2",
         "3",
         "4",
         "5",
         "6",
         "7",
         "8",
         "10",
         "11",
         "12"
        ]
       },
       "13": {
        "avg_score": -0.006105317181479962,
        "cv_scores": [
         -0.006105317181479962
        ],
        "feature_idx": [
         0,
         1,
         2,
         3,
         4,
         5,
         6,
         7,
         8,
         9,
         10,
         11,
         12
        ],
        "feature_names": [
         "0",
         "1",
         "2",
         "3",
         "4",
         "5",
         "6",
         "7",
         "8",
         "9",
         "10",
         "11",
         "12"
        ]
       }
      },
      "text/plain": [
       "<IPython.core.display.JSON object>"
      ]
     },
     "execution_count": 20,
     "metadata": {
      "application/json": {
       "expanded": false,
       "root": "root"
      }
     },
     "output_type": "execute_result"
    }
   ],
   "source": [
    "%%time\n",
    "\n",
    "X, y = df_features.values, df_target['value_max'].values\n",
    "\n",
    "sfs2 = SFS(model_1, \n",
    "           k_features=10, \n",
    "           forward=False, \n",
    "           floating=False, \n",
    "           verbose=1,\n",
    "           scoring='neg_mean_squared_error',\n",
    "           cv=0)\n",
    "\n",
    "sfs2 = sfs2.fit(X, y)\n",
    "\n",
    "JSON(clean_subsets(sfs2))"
   ]
  },
  {
   "cell_type": "code",
   "execution_count": null,
   "id": "a0dd0607-611a-4239-ba2c-cfdefaca67fe",
   "metadata": {},
   "outputs": [],
   "source": []
  },
  {
   "cell_type": "code",
   "execution_count": 20,
   "id": "4a6a2046-81d2-4a61-82aa-81e1293b59f8",
   "metadata": {},
   "outputs": [
    {
     "name": "stdout",
     "output_type": "stream",
     "text": [
      "Wall time: 16.4 s\n"
     ]
    },
    {
     "data": {
      "text/plain": [
       "value               1.931557\n",
       "hour                0.020073\n",
       "doy                 0.016353\n",
       "pressure            0.012139\n",
       "spec_humidity       0.011056\n",
       "solar_irradiance    0.010787\n",
       "windspeed_east      0.010363\n",
       "temperature         0.007676\n",
       "windspeed_north     0.004392\n",
       "speed               0.003682\n",
       "hcdh                0.003653\n",
       "direction           0.002466\n",
       "weekend             0.001439\n",
       "dtype: float64"
      ]
     },
     "execution_count": 20,
     "metadata": {},
     "output_type": "execute_result"
    }
   ],
   "source": [
    "%%time\n",
    "\n",
    "X, y = df_features.values, df_target['value_max'].values\n",
    "model_1.fit(X, y)\n",
    "\n",
    "result = permutation_importance(\n",
    "    model_1, X, y, n_repeats=10, random_state=42, n_jobs=2\n",
    ")\n",
    "\n",
    "forest_importances = pd.Series(result.importances_mean, index=df_features.columns)\n",
    "\n",
    "forest_importances.sort_values(ascending=False)"
   ]
  },
  {
   "cell_type": "code",
   "execution_count": null,
   "id": "ffdfaf12-8e64-4942-a1ef-5949294dd047",
   "metadata": {},
   "outputs": [],
   "source": []
  },
  {
   "cell_type": "code",
   "execution_count": 43,
   "id": "1ddefc4f-e0de-4dca-8fa2-ab94aeb0dba3",
   "metadata": {},
   "outputs": [
    {
     "name": "stdout",
     "output_type": "stream",
     "text": [
      "Wall time: 9.53 s\n"
     ]
    },
    {
     "data": {
      "text/plain": [
       "value               1.620178\n",
       "hour                0.018918\n",
       "solar_irradiance    0.018652\n",
       "doy                 0.014086\n",
       "windspeed_east      0.005720\n",
       "spec_humidity       0.005241\n",
       "pressure            0.005102\n",
       "speed               0.002317\n",
       "windspeed_north     0.001869\n",
       "temperature         0.001845\n",
       "direction           0.001500\n",
       "hcdh                0.000791\n",
       "weekend             0.000635\n",
       "dtype: float64"
      ]
     },
     "execution_count": 43,
     "metadata": {},
     "output_type": "execute_result"
    }
   ],
   "source": [
    "%%time\n",
    "\n",
    "X, y = df_features.values, df_target['value_min'].values\n",
    "model_2.fit(X, y)\n",
    "\n",
    "result = permutation_importance(\n",
    "    model_2, X, y, n_repeats=10, random_state=42, n_jobs=2\n",
    ")\n",
    "\n",
    "forest_importances = pd.Series(result.importances_mean, index=df_features.columns)\n",
    "\n",
    "forest_importances.sort_values(ascending=False)"
   ]
  },
  {
   "cell_type": "code",
   "execution_count": null,
   "id": "fa933458-17ef-4f82-88a4-4adc2d2684bb",
   "metadata": {},
   "outputs": [],
   "source": []
  },
  {
   "cell_type": "code",
   "execution_count": null,
   "id": "a0839eb0-2bd9-4483-b53f-cee835f0b8c3",
   "metadata": {},
   "outputs": [],
   "source": []
  },
  {
   "cell_type": "code",
   "execution_count": null,
   "id": "bb4e0e31-2be6-4834-a485-1c1b255295c9",
   "metadata": {},
   "outputs": [],
   "source": []
  },
  {
   "cell_type": "code",
   "execution_count": null,
   "id": "b8caf572-d282-4c7b-bf67-8c64be1bae7d",
   "metadata": {},
   "outputs": [],
   "source": []
  }
 ],
 "metadata": {
  "kernelspec": {
   "display_name": "evtdemand",
   "language": "python",
   "name": "evtdemand"
  },
  "language_info": {
   "codemirror_mode": {
    "name": "ipython",
    "version": 3
   },
   "file_extension": ".py",
   "mimetype": "text/x-python",
   "name": "python",
   "nbconvert_exporter": "python",
   "pygments_lexer": "ipython3",
   "version": "3.9.7"
  }
 },
 "nbformat": 4,
 "nbformat_minor": 5
}
