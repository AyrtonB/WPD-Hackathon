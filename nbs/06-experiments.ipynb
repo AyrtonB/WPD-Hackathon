{
 "cells": [
  {
   "cell_type": "markdown",
   "id": "055bcfc9-0771-4697-a6e6-f970fef6f4e3",
   "metadata": {},
   "source": [
    "# Experiments\n",
    "\n",
    "<br>\n",
    "\n",
    "### Imports"
   ]
  },
  {
   "cell_type": "code",
   "execution_count": 15,
   "id": "42de6bf6-b5bc-4613-9671-f36aac872fe2",
   "metadata": {},
   "outputs": [],
   "source": [
    "import numpy as np\n",
    "import pandas as pd\n",
    "\n",
    "import copy\n",
    "from tqdm import tqdm\n",
    "\n",
    "from sklearn.inspection import permutation_importance\n",
    "\n",
    "from evtdemand import suite, data, feature"
   ]
  },
  {
   "cell_type": "code",
   "execution_count": 2,
   "id": "90287547-9b43-4a8c-a970-d0949f288eb3",
   "metadata": {},
   "outputs": [],
   "source": [
    "from IPython.display import JSON"
   ]
  },
  {
   "cell_type": "code",
   "execution_count": null,
   "id": "7a262194-c795-449c-a433-89cf262738ed",
   "metadata": {},
   "outputs": [],
   "source": []
  },
  {
   "cell_type": "code",
   "execution_count": 3,
   "id": "9f86931b-564e-4948-b788-73f719066f37",
   "metadata": {},
   "outputs": [],
   "source": [
    "default_params = {\n",
    "    'data_dir': '../data',\n",
    "    'model_1': 'lightgbm.LGBMRegressor', \n",
    "    'model_2': 'lightgbm.LGBMRegressor',\n",
    "    'model_1_kwargs': {\n",
    "        'num_leaves': 50,\n",
    "        'n_estimators': 100,\n",
    "        'reg_lambda': 0.1\n",
    "    },\n",
    "    'model_2_kwargs': {\n",
    "        'num_leaves': 50,\n",
    "        'n_estimators': 100,\n",
    "        'reg_lambda': 0.1\n",
    "    },\n",
    "    'data_kwargs': {\n",
    "        'real_power_sub_dir': 'real_power',\n",
    "        'weather_sub_dir': 'weather',\n",
    "        'real_power_time_period': '_pre_august',\n",
    "        'real_power_site': 'Staplegrove_CB905',\n",
    "        'weather_grid_point': 'staplegrove_1',\n",
    "        'weather_interpolate_method': 'interpolate'\n",
    "    },\n",
    "    'y1_col': 'value_max',\n",
    "    'y2_col': 'value_min',\n",
    "    'split_kwargs': {\n",
    "        'n_splits': 5, \n",
    "        'shuffle': False\n",
    "    },\n",
    "    'cols_subset': ['value', 'temperature', 'solar_irradiance', 'pressure',\n",
    "                    'spec_humidity', 'hour', 'windspeed_north', 'windspeed_east',\n",
    "                    'doy', 'speed', 'direction', 'weekend', 'hcdh'],#, 'prev_month_max_avg',\n",
    "                    #'prev_month_max_max', 'prev_month_min_avg', 'prev_month_min_min'],\n",
    "    'features_kwargs': {\n",
    "        'features': ['temporal', 'dir_speed', 'hcdh']\n",
    "    }\n",
    "}"
   ]
  },
  {
   "cell_type": "code",
   "execution_count": null,
   "id": "3e564aeb-64ba-4544-bddb-9e876eb001e1",
   "metadata": {},
   "outputs": [],
   "source": []
  },
  {
   "cell_type": "code",
   "execution_count": 4,
   "id": "41333794-46fc-4e8d-9fdb-ee7aba2932d1",
   "metadata": {
    "tags": []
   },
   "outputs": [
    {
     "name": "stdout",
     "output_type": "stream",
     "text": [
      "Wall time: 5.71 s\n"
     ]
    },
    {
     "data": {
      "text/plain": [
       "{'y1_rmse': 10.389345154377155,\n",
       " 'y2_rmse': 11.177505324655117,\n",
       " 'combined_rmse': 15.305702367282791,\n",
       " 'skill_score': 0.5152324587016828}"
      ]
     },
     "execution_count": 4,
     "metadata": {},
     "output_type": "execute_result"
    }
   ],
   "source": [
    "%%time\n",
    "\n",
    "model_suite, error_metrics, df_pred, input_data = suite.run_parameterised_model(**default_params)\n",
    "\n",
    "error_metrics"
   ]
  },
  {
   "cell_type": "code",
   "execution_count": null,
   "id": "df3efc65-c55f-4f32-87d2-1b0f5621af9b",
   "metadata": {},
   "outputs": [],
   "source": []
  },
  {
   "cell_type": "code",
   "execution_count": 5,
   "id": "446b97b9-b50a-4505-b0b5-e1295233dcca",
   "metadata": {
    "tags": []
   },
   "outputs": [
    {
     "name": "stdout",
     "output_type": "stream",
     "text": [
      "Wall time: 9.71 s\n"
     ]
    },
    {
     "data": {
      "text/plain": [
       "(0.5173457556059888, 0.5149958383696378)"
      ]
     },
     "execution_count": 5,
     "metadata": {},
     "output_type": "execute_result"
    }
   ],
   "source": [
    "%%time \n",
    "\n",
    "# comparing the two wind speed encodings\n",
    "\n",
    "params = copy.deepcopy(default_params)\n",
    "\n",
    "params['cols_subset'] = ['value', 'temperature', 'solar_irradiance', 'pressure',\n",
    "                         'spec_humidity', 'hour', 'doy', 'speed', 'direction', 'weekend', 'hcdh']\n",
    "model_suite, error_metrics, df_pred, input_data = suite.run_parameterised_model(**params)\n",
    "vectors_error = error_metrics['skill_score']\n",
    "\n",
    "params['cols_subset'] = ['value', 'temperature', 'solar_irradiance', 'pressure', 'spec_humidity', \n",
    "                         'hour', 'windspeed_north', 'windspeed_east', 'doy', 'weekend', 'hcdh']\n",
    "model_suite, error_metrics, df_pred, input_data = suite.run_parameterised_model(**params)\n",
    "speed_dir_error = error_metrics['skill_score']\n",
    "\n",
    "\n",
    "vectors_error, speed_dir_error"
   ]
  },
  {
   "cell_type": "code",
   "execution_count": null,
   "id": "57fcf41a-f386-4196-9e4e-f55ae98a981b",
   "metadata": {},
   "outputs": [],
   "source": []
  },
  {
   "cell_type": "code",
   "execution_count": 6,
   "id": "0af4dad4-e55d-467d-b58c-d749c2614de8",
   "metadata": {},
   "outputs": [
    {
     "name": "stderr",
     "output_type": "stream",
     "text": [
      "100%|████████████████████████████████████████████████████████████████████████████████████| 5/5 [00:23<00:00,  4.68s/it]\n"
     ]
    },
    {
     "data": {
      "text/html": [
       "<div>\n",
       "<style scoped>\n",
       "    .dataframe tbody tr th:only-of-type {\n",
       "        vertical-align: middle;\n",
       "    }\n",
       "\n",
       "    .dataframe tbody tr th {\n",
       "        vertical-align: top;\n",
       "    }\n",
       "\n",
       "    .dataframe thead th {\n",
       "        text-align: right;\n",
       "    }\n",
       "</style>\n",
       "<table border=\"1\" class=\"dataframe\">\n",
       "  <thead>\n",
       "    <tr style=\"text-align: right;\">\n",
       "      <th></th>\n",
       "      <th>y1_rmse</th>\n",
       "      <th>y2_rmse</th>\n",
       "      <th>combined_rmse</th>\n",
       "      <th>skill_score</th>\n",
       "    </tr>\n",
       "    <tr>\n",
       "      <th>run_id</th>\n",
       "      <th></th>\n",
       "      <th></th>\n",
       "      <th></th>\n",
       "      <th></th>\n",
       "    </tr>\n",
       "  </thead>\n",
       "  <tbody>\n",
       "    <tr>\n",
       "      <th>0</th>\n",
       "      <td>17.657929</td>\n",
       "      <td>17.963724</td>\n",
       "      <td>25.195639</td>\n",
       "      <td>0.522551</td>\n",
       "    </tr>\n",
       "    <tr>\n",
       "      <th>1</th>\n",
       "      <td>14.212972</td>\n",
       "      <td>14.888986</td>\n",
       "      <td>20.606912</td>\n",
       "      <td>0.526670</td>\n",
       "    </tr>\n",
       "    <tr>\n",
       "      <th>2</th>\n",
       "      <td>11.898792</td>\n",
       "      <td>12.542129</td>\n",
       "      <td>17.324525</td>\n",
       "      <td>0.522463</td>\n",
       "    </tr>\n",
       "    <tr>\n",
       "      <th>3</th>\n",
       "      <td>10.389345</td>\n",
       "      <td>11.177505</td>\n",
       "      <td>15.305702</td>\n",
       "      <td>0.515232</td>\n",
       "    </tr>\n",
       "    <tr>\n",
       "      <th>4</th>\n",
       "      <td>9.622927</td>\n",
       "      <td>10.113562</td>\n",
       "      <td>14.011024</td>\n",
       "      <td>0.522844</td>\n",
       "    </tr>\n",
       "  </tbody>\n",
       "</table>\n",
       "</div>"
      ],
      "text/plain": [
       "          y1_rmse    y2_rmse  combined_rmse  skill_score\n",
       "run_id                                                  \n",
       "0       17.657929  17.963724      25.195639     0.522551\n",
       "1       14.212972  14.888986      20.606912     0.526670\n",
       "2       11.898792  12.542129      17.324525     0.522463\n",
       "3       10.389345  11.177505      15.305702     0.515232\n",
       "4        9.622927  10.113562      14.011024     0.522844"
      ]
     },
     "execution_count": 6,
     "metadata": {},
     "output_type": "execute_result"
    }
   ],
   "source": [
    "# investigating the impact of reduced training size\n",
    "\n",
    "df_results = pd.DataFrame()\n",
    "all_input_data = []\n",
    "test_splits = list(range(2, 7))\n",
    "params = copy.deepcopy(default_params)\n",
    "\n",
    "for run_id, test_split in tqdm(enumerate(test_splits), total=len(test_splits)):    \n",
    "    params['split_kwargs'] = {'n_splits': test_split, 'shuffle': False}\n",
    "    model_suite, error_metrics, df_pred, input_data = suite.run_parameterised_model(**params)\n",
    "    \n",
    "    df_results = df_results.append(pd.DataFrame([error_metrics], index=[run_id]))\n",
    "    all_input_data += [input_data]\n",
    "\n",
    "df_results.index.name = 'run_id'\n",
    "    \n",
    "df_results"
   ]
  },
  {
   "cell_type": "code",
   "execution_count": null,
   "id": "116a7260-f264-4cc6-9c36-3afd72dab0d4",
   "metadata": {},
   "outputs": [],
   "source": []
  },
  {
   "cell_type": "code",
   "execution_count": 7,
   "id": "a6a807e1-84d8-4427-a9db-dc540abde6e5",
   "metadata": {},
   "outputs": [
    {
     "name": "stdout",
     "output_type": "stream",
     "text": [
      "Wall time: 6.16 s\n"
     ]
    },
    {
     "data": {
      "text/plain": [
       "{'y1_rmse': 10.389345154377155,\n",
       " 'y2_rmse': 11.177505324655117,\n",
       " 'combined_rmse': 15.305702367282791,\n",
       " 'skill_score': 0.5152324587016828}"
      ]
     },
     "execution_count": 7,
     "metadata": {},
     "output_type": "execute_result"
    }
   ],
   "source": [
    "%%time\n",
    "\n",
    "# tuning lightgbm params\n",
    "\n",
    "params = copy.deepcopy(default_params)\n",
    "\n",
    "params['model_1'] = 'lightgbm.LGBMRegressor'\n",
    "params['model_2'] = 'lightgbm.LGBMRegressor'\n",
    "params['model_1_kwargs'] = {\n",
    "    'num_leaves': 50,\n",
    "    'n_estimators': 100,\n",
    "    'reg_lambda': 0.1\n",
    "}\n",
    "params['model_2_kwargs'] = {\n",
    "    'num_leaves': 50,\n",
    "    'n_estimators': 100,\n",
    "    'reg_lambda': 0.1\n",
    "}\n",
    "\n",
    "model_suite, error_metrics, df_pred, input_data = suite.run_parameterised_model(**params)\n",
    "\n",
    "error_metrics"
   ]
  },
  {
   "cell_type": "code",
   "execution_count": null,
   "id": "9dbd871d-984a-4f72-ad11-e6c885c18254",
   "metadata": {},
   "outputs": [],
   "source": []
  },
  {
   "cell_type": "code",
   "execution_count": 44,
   "id": "f184845a-17ee-4600-b7df-0ecd11380da5",
   "metadata": {},
   "outputs": [
    {
     "data": {
      "text/plain": [
       "LGBMRegressor(num_leaves=50, reg_lambda=0.1)"
      ]
     },
     "execution_count": 44,
     "metadata": {},
     "output_type": "execute_result"
    }
   ],
   "source": [
    "# assessing feature importance\n",
    "\n",
    "df_features, df_target = data.construct_baseline_features_target_dfs(default_params['data_dir'], **default_params['data_kwargs'])\n",
    "df_features = feature.create_additional_features(df_features, df_target, **default_params['features_kwargs'])\n",
    "df_features = feature.process_features(df_features, cols_subset=default_params['cols_subset'])\n",
    "\n",
    "model_1 = suite.load_module_attr(default_params['model_1'])(**default_params['model_1_kwargs'])\n",
    "model_2 = suite.load_module_attr(default_params['model_2'])(**default_params['model_2_kwargs'])\n",
    "\n",
    "model_1"
   ]
  },
  {
   "cell_type": "code",
   "execution_count": null,
   "id": "a0dd0607-611a-4239-ba2c-cfdefaca67fe",
   "metadata": {},
   "outputs": [],
   "source": []
  },
  {
   "cell_type": "code",
   "execution_count": 42,
   "id": "4a6a2046-81d2-4a61-82aa-81e1293b59f8",
   "metadata": {},
   "outputs": [
    {
     "name": "stdout",
     "output_type": "stream",
     "text": [
      "Wall time: 6.45 s\n"
     ]
    },
    {
     "data": {
      "text/plain": [
       "value               1.931557\n",
       "hour                0.020073\n",
       "doy                 0.016353\n",
       "pressure            0.012139\n",
       "spec_humidity       0.011056\n",
       "solar_irradiance    0.010787\n",
       "windspeed_east      0.010363\n",
       "temperature         0.007676\n",
       "windspeed_north     0.004392\n",
       "speed               0.003682\n",
       "hcdh                0.003653\n",
       "direction           0.002466\n",
       "weekend             0.001439\n",
       "dtype: float64"
      ]
     },
     "execution_count": 42,
     "metadata": {},
     "output_type": "execute_result"
    }
   ],
   "source": [
    "%%time\n",
    "\n",
    "X, y = df_features.values, df_target['value_max'].values\n",
    "model_1.fit(X, y)\n",
    "\n",
    "result = permutation_importance(\n",
    "    model_1, X, y, n_repeats=10, random_state=42, n_jobs=2\n",
    ")\n",
    "\n",
    "forest_importances = pd.Series(result.importances_mean, index=df_features.columns)\n",
    "\n",
    "forest_importances.sort_values(ascending=False)"
   ]
  },
  {
   "cell_type": "code",
   "execution_count": null,
   "id": "ffdfaf12-8e64-4942-a1ef-5949294dd047",
   "metadata": {},
   "outputs": [],
   "source": []
  },
  {
   "cell_type": "code",
   "execution_count": 43,
   "id": "1ddefc4f-e0de-4dca-8fa2-ab94aeb0dba3",
   "metadata": {},
   "outputs": [
    {
     "name": "stdout",
     "output_type": "stream",
     "text": [
      "Wall time: 9.53 s\n"
     ]
    },
    {
     "data": {
      "text/plain": [
       "value               1.620178\n",
       "hour                0.018918\n",
       "solar_irradiance    0.018652\n",
       "doy                 0.014086\n",
       "windspeed_east      0.005720\n",
       "spec_humidity       0.005241\n",
       "pressure            0.005102\n",
       "speed               0.002317\n",
       "windspeed_north     0.001869\n",
       "temperature         0.001845\n",
       "direction           0.001500\n",
       "hcdh                0.000791\n",
       "weekend             0.000635\n",
       "dtype: float64"
      ]
     },
     "execution_count": 43,
     "metadata": {},
     "output_type": "execute_result"
    }
   ],
   "source": [
    "%%time\n",
    "\n",
    "X, y = df_features.values, df_target['value_min'].values\n",
    "model_2.fit(X, y)\n",
    "\n",
    "result = permutation_importance(\n",
    "    model_2, X, y, n_repeats=10, random_state=42, n_jobs=2\n",
    ")\n",
    "\n",
    "forest_importances = pd.Series(result.importances_mean, index=df_features.columns)\n",
    "\n",
    "forest_importances.sort_values(ascending=False)"
   ]
  },
  {
   "cell_type": "code",
   "execution_count": null,
   "id": "fa933458-17ef-4f82-88a4-4adc2d2684bb",
   "metadata": {},
   "outputs": [],
   "source": []
  },
  {
   "cell_type": "code",
   "execution_count": null,
   "id": "a0839eb0-2bd9-4483-b53f-cee835f0b8c3",
   "metadata": {},
   "outputs": [],
   "source": []
  },
  {
   "cell_type": "code",
   "execution_count": null,
   "id": "bb4e0e31-2be6-4834-a485-1c1b255295c9",
   "metadata": {},
   "outputs": [],
   "source": []
  },
  {
   "cell_type": "code",
   "execution_count": null,
   "id": "b8caf572-d282-4c7b-bf67-8c64be1bae7d",
   "metadata": {},
   "outputs": [],
   "source": []
  }
 ],
 "metadata": {
  "kernelspec": {
   "display_name": "evtdemand",
   "language": "python",
   "name": "evtdemand"
  },
  "language_info": {
   "codemirror_mode": {
    "name": "ipython",
    "version": 3
   },
   "file_extension": ".py",
   "mimetype": "text/x-python",
   "name": "python",
   "nbconvert_exporter": "python",
   "pygments_lexer": "ipython3",
   "version": "3.9.7"
  }
 },
 "nbformat": 4,
 "nbformat_minor": 5
}
