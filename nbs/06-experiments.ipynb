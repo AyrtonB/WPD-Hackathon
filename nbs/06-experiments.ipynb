{
 "cells": [
  {
   "cell_type": "markdown",
   "id": "055bcfc9-0771-4697-a6e6-f970fef6f4e3",
   "metadata": {},
   "source": [
    "# Experiments\n",
    "\n",
    "<br>\n",
    "\n",
    "### Imports"
   ]
  },
  {
   "cell_type": "code",
   "execution_count": 1,
   "id": "42de6bf6-b5bc-4613-9671-f36aac872fe2",
   "metadata": {},
   "outputs": [],
   "source": [
    "import numpy as np\n",
    "import pandas as pd\n",
    "\n",
    "import copy\n",
    "from tqdm import tqdm\n",
    "\n",
    "from evtdemand import suite"
   ]
  },
  {
   "cell_type": "code",
   "execution_count": 2,
   "id": "90287547-9b43-4a8c-a970-d0949f288eb3",
   "metadata": {},
   "outputs": [],
   "source": [
    "from IPython.display import JSON"
   ]
  },
  {
   "cell_type": "code",
   "execution_count": null,
   "id": "7a262194-c795-449c-a433-89cf262738ed",
   "metadata": {},
   "outputs": [],
   "source": []
  },
  {
   "cell_type": "code",
   "execution_count": 49,
   "id": "9f86931b-564e-4948-b788-73f719066f37",
   "metadata": {},
   "outputs": [],
   "source": [
    "default_params = {\n",
    "    'data_dir': '../data',\n",
    "    'model_1': 'sklearn.ensemble.RandomForestRegressor', \n",
    "    'model_2': 'sklearn.ensemble.RandomForestRegressor',\n",
    "    'model_1_kwargs': {},\n",
    "    'model_2_kwargs': {},\n",
    "    'data_kwargs': {\n",
    "        'real_power_sub_dir': 'real_power',\n",
    "        'weather_sub_dir': 'weather',\n",
    "        'real_power_time_period': '_pre_august',\n",
    "        'real_power_site': 'Staplegrove_CB905',\n",
    "        'weather_grid_point': 'staplegrove_1',\n",
    "        'weather_interpolate_method': 'interpolate'\n",
    "    },\n",
    "    'y1_col': 'value_max',\n",
    "    'y2_col': 'value_min',\n",
    "    'split_kwargs': {\n",
    "        'n_splits': 5, \n",
    "        'shuffle': False\n",
    "    },\n",
    "    'cols_subset': ['value', 'temperature', 'solar_irradiance', 'pressure',\n",
    "                    'spec_humidity', 'hour', 'windspeed_north', 'windspeed_east',\n",
    "                    'doy', 'speed', 'direction', 'weekend', 'hcdh'],#, 'prev_month_max_avg',\n",
    "                    #'prev_month_max_max', 'prev_month_min_avg', 'prev_month_min_min'],\n",
    "    'features_kwargs': {\n",
    "        'features': ['temporal', 'dir_speed', 'hcdh']\n",
    "    }\n",
    "}"
   ]
  },
  {
   "cell_type": "code",
   "execution_count": null,
   "id": "3e564aeb-64ba-4544-bddb-9e876eb001e1",
   "metadata": {},
   "outputs": [],
   "source": []
  },
  {
   "cell_type": "code",
   "execution_count": 4,
   "id": "41333794-46fc-4e8d-9fdb-ee7aba2932d1",
   "metadata": {
    "tags": []
   },
   "outputs": [
    {
     "name": "stdout",
     "output_type": "stream",
     "text": [
      "Wall time: 8min 2s\n"
     ]
    },
    {
     "data": {
      "text/plain": [
       "{'y1_rmse': 10.460005773284186,\n",
       " 'y2_rmse': 11.49911414894963,\n",
       " 'combined_rmse': 15.590660164682564,\n",
       " 'skill_score': 0.5271113043079159}"
      ]
     },
     "execution_count": 4,
     "metadata": {},
     "output_type": "execute_result"
    }
   ],
   "source": [
    "%%time\n",
    "\n",
    "model_suite, error_metrics, df_pred, input_data = suite.run_parameterised_model(**default_params)\n",
    "\n",
    "error_metrics"
   ]
  },
  {
   "cell_type": "code",
   "execution_count": null,
   "id": "df3efc65-c55f-4f32-87d2-1b0f5621af9b",
   "metadata": {},
   "outputs": [],
   "source": []
  },
  {
   "cell_type": "code",
   "execution_count": 6,
   "id": "446b97b9-b50a-4505-b0b5-e1295233dcca",
   "metadata": {},
   "outputs": [
    {
     "name": "stdout",
     "output_type": "stream",
     "text": [
      "Wall time: 12min 56s\n"
     ]
    },
    {
     "data": {
      "text/plain": [
       "(0.5255203515257487, 0.5250321153868784)"
      ]
     },
     "execution_count": 6,
     "metadata": {},
     "output_type": "execute_result"
    }
   ],
   "source": [
    "%%time \n",
    "\n",
    "# comparing the two wind speed encodings\n",
    "\n",
    "model_suite, error_metrics, df_pred, input_data = suite.run_parameterised_model(\n",
    "    data_dir=default_params['data_dir'], \n",
    "    split_kwargs=default_params['split_kwargs'],\n",
    "    cols_subset=['value', 'temperature', 'solar_irradiance', 'pressure',\n",
    "                 'spec_humidity', 'hour', 'doy', 'speed', 'direction', 'weekend', 'hcdh'])\n",
    "vectors_error = error_metrics['skill_score']\n",
    "\n",
    "model_suite, error_metrics, df_pred, input_data = suite.run_parameterised_model(\n",
    "    data_dir=default_params['data_dir'], \n",
    "    split_kwargs=default_params['split_kwargs'],\n",
    "    cols_subset=['value', 'temperature', 'solar_irradiance', 'pressure', 'spec_humidity', \n",
    "                 'hour', 'windspeed_north', 'windspeed_east', 'doy', 'weekend', 'hcdh'])\n",
    "speed_dir_error = error_metrics['skill_score']\n",
    "\n",
    "\n",
    "vectors_error, speed_dir_error"
   ]
  },
  {
   "cell_type": "code",
   "execution_count": null,
   "id": "57fcf41a-f386-4196-9e4e-f55ae98a981b",
   "metadata": {},
   "outputs": [],
   "source": []
  },
  {
   "cell_type": "code",
   "execution_count": 13,
   "id": "0af4dad4-e55d-467d-b58c-d749c2614de8",
   "metadata": {},
   "outputs": [
    {
     "name": "stderr",
     "output_type": "stream",
     "text": [
      "100%|███████████████████████████████████████████████████████████████████████████████████| 5/5 [23:48<00:00, 285.74s/it]\n"
     ]
    },
    {
     "data": {
      "text/html": [
       "<div>\n",
       "<style scoped>\n",
       "    .dataframe tbody tr th:only-of-type {\n",
       "        vertical-align: middle;\n",
       "    }\n",
       "\n",
       "    .dataframe tbody tr th {\n",
       "        vertical-align: top;\n",
       "    }\n",
       "\n",
       "    .dataframe thead th {\n",
       "        text-align: right;\n",
       "    }\n",
       "</style>\n",
       "<table border=\"1\" class=\"dataframe\">\n",
       "  <thead>\n",
       "    <tr style=\"text-align: right;\">\n",
       "      <th></th>\n",
       "      <th>y1_rmse</th>\n",
       "      <th>y2_rmse</th>\n",
       "      <th>combined_rmse</th>\n",
       "      <th>skill_score</th>\n",
       "    </tr>\n",
       "    <tr>\n",
       "      <th>run_id</th>\n",
       "      <th></th>\n",
       "      <th></th>\n",
       "      <th></th>\n",
       "      <th></th>\n",
       "    </tr>\n",
       "  </thead>\n",
       "  <tbody>\n",
       "    <tr>\n",
       "      <th>0</th>\n",
       "      <td>17.617496</td>\n",
       "      <td>18.559083</td>\n",
       "      <td>25.595969</td>\n",
       "      <td>0.530863</td>\n",
       "    </tr>\n",
       "    <tr>\n",
       "      <th>1</th>\n",
       "      <td>14.243697</td>\n",
       "      <td>14.955248</td>\n",
       "      <td>20.666098</td>\n",
       "      <td>0.529086</td>\n",
       "    </tr>\n",
       "    <tr>\n",
       "      <th>2</th>\n",
       "      <td>11.765296</td>\n",
       "      <td>12.935423</td>\n",
       "      <td>17.517853</td>\n",
       "      <td>0.529014</td>\n",
       "    </tr>\n",
       "    <tr>\n",
       "      <th>3</th>\n",
       "      <td>10.413627</td>\n",
       "      <td>11.496951</td>\n",
       "      <td>15.555175</td>\n",
       "      <td>0.525496</td>\n",
       "    </tr>\n",
       "    <tr>\n",
       "      <th>4</th>\n",
       "      <td>9.641394</td>\n",
       "      <td>10.463222</td>\n",
       "      <td>14.278404</td>\n",
       "      <td>0.536105</td>\n",
       "    </tr>\n",
       "  </tbody>\n",
       "</table>\n",
       "</div>"
      ],
      "text/plain": [
       "          y1_rmse    y2_rmse  combined_rmse  skill_score\n",
       "run_id                                                  \n",
       "0       17.617496  18.559083      25.595969     0.530863\n",
       "1       14.243697  14.955248      20.666098     0.529086\n",
       "2       11.765296  12.935423      17.517853     0.529014\n",
       "3       10.413627  11.496951      15.555175     0.525496\n",
       "4        9.641394  10.463222      14.278404     0.536105"
      ]
     },
     "execution_count": 13,
     "metadata": {},
     "output_type": "execute_result"
    }
   ],
   "source": [
    "df_results = pd.DataFrame()\n",
    "all_input_data = []\n",
    "test_splits = list(range(2, 7))\n",
    "\n",
    "for run_id, test_split in tqdm(enumerate(test_splits), total=len(test_splits)):    \n",
    "    model_suite, error_metrics, df_pred, input_data = suite.run_parameterised_model(\n",
    "        data_dir=default_params['data_dir'], \n",
    "        split_kwargs={'n_splits': test_split, 'shuffle': False}\n",
    "    )\n",
    "    \n",
    "    df_results = df_results.append(pd.DataFrame([error_metrics], index=[run_id]))\n",
    "    all_input_data += [input_data]\n",
    "\n",
    "df_results.index.name = 'run_id'\n",
    "    \n",
    "df_results"
   ]
  },
  {
   "cell_type": "code",
   "execution_count": null,
   "id": "116a7260-f264-4cc6-9c36-3afd72dab0d4",
   "metadata": {},
   "outputs": [],
   "source": []
  },
  {
   "cell_type": "code",
   "execution_count": 59,
   "id": "a6a807e1-84d8-4427-a9db-dc540abde6e5",
   "metadata": {},
   "outputs": [
    {
     "name": "stdout",
     "output_type": "stream",
     "text": [
      "Wall time: 11.9 s\n"
     ]
    },
    {
     "data": {
      "text/plain": [
       "{'y1_rmse': 10.389345154377155,\n",
       " 'y2_rmse': 11.177505324655117,\n",
       " 'combined_rmse': 15.305702367282791,\n",
       " 'skill_score': 0.5152324587016828}"
      ]
     },
     "execution_count": 59,
     "metadata": {},
     "output_type": "execute_result"
    }
   ],
   "source": [
    "%%time\n",
    "\n",
    "params = copy.deepcopy(default_params)\n",
    "\n",
    "params['model_1'] = 'lightgbm.LGBMRegressor'\n",
    "params['model_2'] = 'lightgbm.LGBMRegressor'\n",
    "params['model_1_kwargs'] = {\n",
    "    'num_leaves': 50,\n",
    "    'n_estimators': 100,\n",
    "    'reg_lambda': 0.1\n",
    "}\n",
    "params['model_2_kwargs'] = {\n",
    "    'num_leaves': 50,\n",
    "    'n_estimators': 100,\n",
    "    'reg_lambda': 0.1\n",
    "}\n",
    "\n",
    "model_suite, error_metrics, df_pred, input_data = suite.run_parameterised_model(**params)\n",
    "\n",
    "error_metrics"
   ]
  },
  {
   "cell_type": "code",
   "execution_count": null,
   "id": "9dbd871d-984a-4f72-ad11-e6c885c18254",
   "metadata": {},
   "outputs": [],
   "source": []
  },
  {
   "cell_type": "code",
   "execution_count": null,
   "id": "4a6a2046-81d2-4a61-82aa-81e1293b59f8",
   "metadata": {},
   "outputs": [],
   "source": []
  },
  {
   "cell_type": "code",
   "execution_count": null,
   "id": "ffdfaf12-8e64-4942-a1ef-5949294dd047",
   "metadata": {},
   "outputs": [],
   "source": []
  },
  {
   "cell_type": "code",
   "execution_count": null,
   "id": "1ddefc4f-e0de-4dca-8fa2-ab94aeb0dba3",
   "metadata": {},
   "outputs": [],
   "source": []
  }
 ],
 "metadata": {
  "kernelspec": {
   "display_name": "evtdemand",
   "language": "python",
   "name": "evtdemand"
  },
  "language_info": {
   "codemirror_mode": {
    "name": "ipython",
    "version": 3
   },
   "file_extension": ".py",
   "mimetype": "text/x-python",
   "name": "python",
   "nbconvert_exporter": "python",
   "pygments_lexer": "ipython3",
   "version": "3.9.7"
  }
 },
 "nbformat": 4,
 "nbformat_minor": 5
}
