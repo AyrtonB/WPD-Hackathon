{
 "cells": [
  {
   "cell_type": "code",
   "execution_count": 130,
   "id": "040b8431-8b02-4ca9-8da5-f6024dcb9701",
   "metadata": {},
   "outputs": [],
   "source": [
    "#default_exp data"
   ]
  },
  {
   "cell_type": "markdown",
   "id": "2f0d8e64-ad38-401d-992f-ff383686a62a",
   "metadata": {
    "tags": []
   },
   "source": [
    "# Data Processing\n",
    "\n",
    "<br>\n",
    "\n",
    "### Imports"
   ]
  },
  {
   "cell_type": "code",
   "execution_count": 95,
   "id": "914a9bfe-b13c-4bd5-986f-fc929c79ee40",
   "metadata": {},
   "outputs": [],
   "source": [
    "#exports\n",
    "import numpy as np\n",
    "import pandas as pd\n",
    "\n",
    "import os"
   ]
  },
  {
   "cell_type": "markdown",
   "id": "df73e686-9c6e-4cf0-b98f-7345f34a8684",
   "metadata": {},
   "source": [
    "<br>\n",
    "\n",
    "### Real Power"
   ]
  },
  {
   "cell_type": "code",
   "execution_count": 126,
   "id": "57fc5595-05ed-42ff-8ef5-49e8e4458242",
   "metadata": {},
   "outputs": [],
   "source": [
    "real_power_data_dir = '../data/real_power'\n",
    "\n",
    "sites = ['Geevor_CB52', 'Mousehole_CB51', 'Staplegrove_CB905']"
   ]
  },
  {
   "cell_type": "code",
   "execution_count": null,
   "id": "7f16177b-c930-47a5-8f32-36febc450834",
   "metadata": {},
   "outputs": [],
   "source": []
  },
  {
   "cell_type": "code",
   "execution_count": 77,
   "id": "fc1feb16-0645-4887-96e4-8098fef93c1d",
   "metadata": {},
   "outputs": [
    {
     "data": {
      "text/plain": [
       "['MW_Geevor_CB52_MW_minute_real_power_MW.csv',\n",
       " 'MW_Geevor_CB52_MW_observation_variable_half_hourly_real_power_MW.csv',\n",
       " 'MW_Geevor_CB52_MW_target_variable_half_hourly_max_min_real_power_MW.csv',\n",
       " 'MW_Mousehole_CB51_MW_minute_real_power_MW.csv',\n",
       " 'MW_Mousehole_CB51_MW_observation_variable_half_hourly_real_power_MW.csv',\n",
       " 'MW_Mousehole_CB51_MW_target_variable_half_hourly_max_min_real_power_MW.csv',\n",
       " 'MW_Staplegrove_CB905_MW_minute_real_power_MW_pre_august.csv',\n",
       " 'MW_Staplegrove_CB905_MW_observation_variable_half_hourly_real_power_MW_august.csv',\n",
       " 'MW_Staplegrove_CB905_MW_observation_variable_half_hourly_real_power_MW_pre_august.csv',\n",
       " 'MW_Staplegrove_CB905_MW_observation_variable_half_hourly_real_power_MW_september.csv',\n",
       " 'MW_Staplegrove_CB905_MW_target_variable_half_hourly_max_min_real_power_MW_pre_august.csv']"
      ]
     },
     "execution_count": 77,
     "metadata": {},
     "output_type": "execute_result"
    }
   ],
   "source": [
    "os.listdir(real_power_data_dir)"
   ]
  },
  {
   "cell_type": "code",
   "execution_count": null,
   "id": "221c13c9-c3e0-4590-b90b-0cf81e9bf754",
   "metadata": {},
   "outputs": [],
   "source": []
  },
  {
   "cell_type": "code",
   "execution_count": 108,
   "id": "05fc2dca-20f7-462a-804e-fd407950ba6b",
   "metadata": {},
   "outputs": [],
   "source": [
    "#exports\n",
    "def clean_real_power_df(\n",
    "    df: pd.DataFrame,\n",
    "    cols_to_keep: list=['maxvalue', 'minvalue', 'value_max', 'value_min', 'quality', 'samplecount', 'value']\n",
    "):\n",
    "    if 'attrId' in df.columns:\n",
    "        assert df['attrId'].reset_index().duplicated().sum() == 0, 'The time and attrId data must contain no duplicate rows'\n",
    "        assert df['attrId'].value_counts().size == 1, 'Only one `attrId` value should be contained in the dataset'\n",
    "    \n",
    "    if 'units' in df.columns:\n",
    "        assert df['units'].value_counts().size == 1, 'Only one `units` value should be contained in the dataset'\n",
    "\n",
    "    df_clean = df[sorted(list(set(cols_to_keep).intersection(set(df.columns))))].copy()\n",
    "    \n",
    "    return df_clean\n",
    "\n",
    "def load_real_power_dataset(\n",
    "    data_dir: str,\n",
    "    site: str='Geevor_CB52',\n",
    "    real_power_variable: str='minute',\n",
    "    time_period: str=''\n",
    "):\n",
    "    valid_time_periods = ['', '_august', '_pre_august', '_september']\n",
    "    valid_real_power_variables = ['minute', 'observation_variable_half_hourly', 'target_variable_half_hourly_max_min']\n",
    "    assert real_power_variable in valid_real_power_variables, f'`real_power_variable` must be one of {\", \".join(valid_real_power_variables)}'\n",
    "    assert time_period in valid_time_periods, f'`time_period` must be one of {\", \".join(valid_time_periods)}'\n",
    "    \n",
    "    fp = f'{data_dir}/MW_{site}_MW_{real_power_variable}_real_power_MW{time_period}.csv'\n",
    "\n",
    "    df = pd.read_csv(fp)\n",
    "    \n",
    "    if 'Unnamed: 0' in df.columns:\n",
    "        df = df.drop(columns=['Unnamed: 0'])\n",
    "\n",
    "    df['time'] = pd.to_datetime(df['time'], utc=True)\n",
    "    df = df.set_index('time')\n",
    "    \n",
    "    df = clean_real_power_df(df)\n",
    "    \n",
    "    return df"
   ]
  },
  {
   "cell_type": "code",
   "execution_count": 106,
   "id": "83172bb5-4ac3-46b0-b4f8-a1605a524a10",
   "metadata": {},
   "outputs": [
    {
     "name": "stdout",
     "output_type": "stream",
     "text": [
      "Wall time: 11.5 s\n"
     ]
    },
    {
     "data": {
      "text/html": [
       "<div>\n",
       "<style scoped>\n",
       "    .dataframe tbody tr th:only-of-type {\n",
       "        vertical-align: middle;\n",
       "    }\n",
       "\n",
       "    .dataframe tbody tr th {\n",
       "        vertical-align: top;\n",
       "    }\n",
       "\n",
       "    .dataframe thead th {\n",
       "        text-align: right;\n",
       "    }\n",
       "</style>\n",
       "<table border=\"1\" class=\"dataframe\">\n",
       "  <thead>\n",
       "    <tr style=\"text-align: right;\">\n",
       "      <th></th>\n",
       "      <th>maxvalue</th>\n",
       "      <th>minvalue</th>\n",
       "      <th>quality</th>\n",
       "      <th>samplecount</th>\n",
       "      <th>value</th>\n",
       "    </tr>\n",
       "    <tr>\n",
       "      <th>time</th>\n",
       "      <th></th>\n",
       "      <th></th>\n",
       "      <th></th>\n",
       "      <th></th>\n",
       "      <th></th>\n",
       "    </tr>\n",
       "  </thead>\n",
       "  <tbody>\n",
       "    <tr>\n",
       "      <th>2019-11-01 00:00:00+00:00</th>\n",
       "      <td>1.080326</td>\n",
       "      <td>1.004972</td>\n",
       "      <td>Good</td>\n",
       "      <td>5</td>\n",
       "      <td>1.060368</td>\n",
       "    </tr>\n",
       "    <tr>\n",
       "      <th>2019-11-01 00:01:00+00:00</th>\n",
       "      <td>1.080326</td>\n",
       "      <td>1.046835</td>\n",
       "      <td>Good</td>\n",
       "      <td>11</td>\n",
       "      <td>1.060862</td>\n",
       "    </tr>\n",
       "    <tr>\n",
       "      <th>2019-11-01 00:02:00+00:00</th>\n",
       "      <td>1.071953</td>\n",
       "      <td>1.055208</td>\n",
       "      <td>Good</td>\n",
       "      <td>8</td>\n",
       "      <td>1.060566</td>\n",
       "    </tr>\n",
       "    <tr>\n",
       "      <th>2019-11-01 00:03:00+00:00</th>\n",
       "      <td>1.088698</td>\n",
       "      <td>1.066930</td>\n",
       "      <td>Good</td>\n",
       "      <td>7</td>\n",
       "      <td>1.081386</td>\n",
       "    </tr>\n",
       "    <tr>\n",
       "      <th>2019-11-01 00:04:00+00:00</th>\n",
       "      <td>1.088698</td>\n",
       "      <td>1.063580</td>\n",
       "      <td>Good</td>\n",
       "      <td>7</td>\n",
       "      <td>1.077898</td>\n",
       "    </tr>\n",
       "  </tbody>\n",
       "</table>\n",
       "</div>"
      ],
      "text/plain": [
       "                           maxvalue  minvalue quality  samplecount     value\n",
       "time                                                                        \n",
       "2019-11-01 00:00:00+00:00  1.080326  1.004972    Good            5  1.060368\n",
       "2019-11-01 00:01:00+00:00  1.080326  1.046835    Good           11  1.060862\n",
       "2019-11-01 00:02:00+00:00  1.071953  1.055208    Good            8  1.060566\n",
       "2019-11-01 00:03:00+00:00  1.088698  1.066930    Good            7  1.081386\n",
       "2019-11-01 00:04:00+00:00  1.088698  1.063580    Good            7  1.077898"
      ]
     },
     "execution_count": 106,
     "metadata": {},
     "output_type": "execute_result"
    }
   ],
   "source": [
    "%%time\n",
    "\n",
    "df_staplegrove_minute = load_real_power_dataset(real_power_data_dir, site='Staplegrove_CB905', real_power_variable='minute', time_period='_pre_august')\n",
    "df_mousehole_minute = load_real_power_dataset(real_power_data_dir, site='Mousehole_CB51', real_power_variable='minute')\n",
    "df_geevor_minute = load_real_power_dataset(real_power_data_dir, site='Geevor_CB52', real_power_variable='minute')\n",
    "\n",
    "df_staplegrove_minute.head()"
   ]
  },
  {
   "cell_type": "code",
   "execution_count": null,
   "id": "29e51cfa-8f4a-4bca-b502-8a89d30ccc01",
   "metadata": {},
   "outputs": [],
   "source": []
  },
  {
   "cell_type": "code",
   "execution_count": 123,
   "id": "fcc93608-6fc5-4cba-b434-a1253f4ad2d5",
   "metadata": {},
   "outputs": [
    {
     "data": {
      "text/plain": [
       "<AxesSubplot:xlabel='time'>"
      ]
     },
     "execution_count": 123,
     "metadata": {},
     "output_type": "execute_result"
    },
    {
     "data": {
      "image/png": "[encoded data removed]",
      "text/plain": [
       "<Figure size 432x288 with 1 Axes>"
      ]
     },
     "metadata": {
      "needs_background": "light"
     },
     "output_type": "display_data"
    }
   ],
   "source": [
    "(df_staplegrove_minute['maxvalue'] - df_staplegrove_minute['minvalue']).resample('d').max().plot()"
   ]
  },
  {
   "cell_type": "code",
   "execution_count": null,
   "id": "5a7be999-e9cb-42e0-8d48-7c1ec69318dc",
   "metadata": {},
   "outputs": [],
   "source": []
  },
  {
   "cell_type": "code",
   "execution_count": 94,
   "id": "d2fc6efe-c345-4154-a5f7-83ed5a6fe6cd",
   "metadata": {},
   "outputs": [
    {
     "data": {
      "text/plain": [
       "<AxesSubplot:xlabel='time'>"
      ]
     },
     "execution_count": 94,
     "metadata": {},
     "output_type": "execute_result"
    },
    {
     "data": {
      "image/png": "[encoded data removed]",
      "text/plain": [
       "<Figure size 432x288 with 1 Axes>"
      ]
     },
     "metadata": {
      "needs_background": "light"
     },
     "output_type": "display_data"
    }
   ],
   "source": [
    "df_staplegrove_minute['maxvalue'].resample('d').max().plot()\n",
    "df_staplegrove_minute['minvalue'].resample('d').min().plot()"
   ]
  },
  {
   "cell_type": "code",
   "execution_count": null,
   "id": "2521cf11-c3a8-48af-97ff-58c6943f566f",
   "metadata": {},
   "outputs": [],
   "source": []
  },
  {
   "cell_type": "code",
   "execution_count": 127,
   "id": "d661fc29-12e1-4e74-b92c-09a92e048f20",
   "metadata": {},
   "outputs": [
    {
     "data": {
      "text/html": [
       "<div>\n",
       "<style scoped>\n",
       "    .dataframe tbody tr th:only-of-type {\n",
       "        vertical-align: middle;\n",
       "    }\n",
       "\n",
       "    .dataframe tbody tr th {\n",
       "        vertical-align: top;\n",
       "    }\n",
       "\n",
       "    .dataframe thead th {\n",
       "        text-align: right;\n",
       "    }\n",
       "</style>\n",
       "<table border=\"1\" class=\"dataframe\">\n",
       "  <thead>\n",
       "    <tr style=\"text-align: right;\">\n",
       "      <th></th>\n",
       "      <th>value</th>\n",
       "    </tr>\n",
       "    <tr>\n",
       "      <th>time</th>\n",
       "      <th></th>\n",
       "    </tr>\n",
       "  </thead>\n",
       "  <tbody>\n",
       "    <tr>\n",
       "      <th>2019-11-01 00:00:00+00:00</th>\n",
       "      <td>1.101302</td>\n",
       "    </tr>\n",
       "    <tr>\n",
       "      <th>2019-11-01 00:30:00+00:00</th>\n",
       "      <td>1.084653</td>\n",
       "    </tr>\n",
       "    <tr>\n",
       "      <th>2019-11-01 01:00:00+00:00</th>\n",
       "      <td>0.998729</td>\n",
       "    </tr>\n",
       "    <tr>\n",
       "      <th>2019-11-01 01:30:00+00:00</th>\n",
       "      <td>0.914548</td>\n",
       "    </tr>\n",
       "    <tr>\n",
       "      <th>2019-11-01 02:00:00+00:00</th>\n",
       "      <td>0.875550</td>\n",
       "    </tr>\n",
       "  </tbody>\n",
       "</table>\n",
       "</div>"
      ],
      "text/plain": [
       "                              value\n",
       "time                               \n",
       "2019-11-01 00:00:00+00:00  1.101302\n",
       "2019-11-01 00:30:00+00:00  1.084653\n",
       "2019-11-01 01:00:00+00:00  0.998729\n",
       "2019-11-01 01:30:00+00:00  0.914548\n",
       "2019-11-01 02:00:00+00:00  0.875550"
      ]
     },
     "execution_count": 127,
     "metadata": {},
     "output_type": "execute_result"
    }
   ],
   "source": [
    "df_staplegrove_observation = load_real_power_dataset(real_power_data_dir, site='Staplegrove_CB905', real_power_variable='observation_variable_half_hourly', time_period='_pre_august')\n",
    "\n",
    "df_staplegrove_observation.head()"
   ]
  },
  {
   "cell_type": "code",
   "execution_count": null,
   "id": "76e59cd5-3e87-4db3-b230-d36fab5c1cd4",
   "metadata": {},
   "outputs": [],
   "source": []
  },
  {
   "cell_type": "code",
   "execution_count": 111,
   "id": "61b5d965-7597-4a7f-a824-12b8d00768e2",
   "metadata": {},
   "outputs": [
    {
     "data": {
      "text/html": [
       "<div>\n",
       "<style scoped>\n",
       "    .dataframe tbody tr th:only-of-type {\n",
       "        vertical-align: middle;\n",
       "    }\n",
       "\n",
       "    .dataframe tbody tr th {\n",
       "        vertical-align: top;\n",
       "    }\n",
       "\n",
       "    .dataframe thead th {\n",
       "        text-align: right;\n",
       "    }\n",
       "</style>\n",
       "<table border=\"1\" class=\"dataframe\">\n",
       "  <thead>\n",
       "    <tr style=\"text-align: right;\">\n",
       "      <th></th>\n",
       "      <th>value_max</th>\n",
       "      <th>value_min</th>\n",
       "    </tr>\n",
       "    <tr>\n",
       "      <th>time</th>\n",
       "      <th></th>\n",
       "      <th></th>\n",
       "    </tr>\n",
       "  </thead>\n",
       "  <tbody>\n",
       "    <tr>\n",
       "      <th>2019-11-01 00:00:00+00:00</th>\n",
       "      <td>1.145350</td>\n",
       "      <td>1.060368</td>\n",
       "    </tr>\n",
       "    <tr>\n",
       "      <th>2019-11-01 00:30:00+00:00</th>\n",
       "      <td>1.139437</td>\n",
       "      <td>1.027391</td>\n",
       "    </tr>\n",
       "    <tr>\n",
       "      <th>2019-11-01 01:00:00+00:00</th>\n",
       "      <td>1.047172</td>\n",
       "      <td>0.952354</td>\n",
       "    </tr>\n",
       "    <tr>\n",
       "      <th>2019-11-01 01:30:00+00:00</th>\n",
       "      <td>0.958730</td>\n",
       "      <td>0.880103</td>\n",
       "    </tr>\n",
       "    <tr>\n",
       "      <th>2019-11-01 02:00:00+00:00</th>\n",
       "      <td>0.905183</td>\n",
       "      <td>0.836223</td>\n",
       "    </tr>\n",
       "  </tbody>\n",
       "</table>\n",
       "</div>"
      ],
      "text/plain": [
       "                           value_max  value_min\n",
       "time                                           \n",
       "2019-11-01 00:00:00+00:00   1.145350   1.060368\n",
       "2019-11-01 00:30:00+00:00   1.139437   1.027391\n",
       "2019-11-01 01:00:00+00:00   1.047172   0.952354\n",
       "2019-11-01 01:30:00+00:00   0.958730   0.880103\n",
       "2019-11-01 02:00:00+00:00   0.905183   0.836223"
      ]
     },
     "execution_count": 111,
     "metadata": {},
     "output_type": "execute_result"
    }
   ],
   "source": [
    "df_staplegrove_target = load_real_power_dataset(real_power_data_dir, site='Staplegrove_CB905', real_power_variable='target_variable_half_hourly_max_min', time_period='_pre_august')\n",
    "\n",
    "df_staplegrove_target.head()"
   ]
  },
  {
   "cell_type": "markdown",
   "id": "f0d6b214-6b02-423b-b2bd-6b5c9b3d059c",
   "metadata": {},
   "source": [
    "<br>\n",
    "\n",
    "### Weather"
   ]
  },
  {
   "cell_type": "code",
   "execution_count": 114,
   "id": "96455bb9-3021-41d3-9126-8fa7d23a1011",
   "metadata": {},
   "outputs": [],
   "source": [
    "weather_data_dir = '../data/weather'"
   ]
  },
  {
   "cell_type": "code",
   "execution_count": null,
   "id": "af79ca10-1711-452b-b090-d3533ed73f31",
   "metadata": {},
   "outputs": [],
   "source": []
  },
  {
   "cell_type": "code",
   "execution_count": 115,
   "id": "bf49501a-912f-4e59-9303-cd2e99ecec60",
   "metadata": {},
   "outputs": [
    {
     "data": {
      "text/plain": [
       "['.ipynb_checkpoints',\n",
       " 'df_mousehole_1_hourly.csv',\n",
       " 'df_mousehole_2_hourly.csv',\n",
       " 'df_mousehole_3_hourly.csv',\n",
       " 'df_mousehole_4_hourly.csv',\n",
       " 'df_mousehole_5_hourly.csv',\n",
       " 'df_staplegrove_1_hourly.csv',\n",
       " 'df_staplegrove_2_hourly.csv',\n",
       " 'df_staplegrove_3_hourly.csv',\n",
       " 'df_staplegrove_4_hourly.csv',\n",
       " 'df_staplegrove_5_hourly.csv']"
      ]
     },
     "execution_count": 115,
     "metadata": {},
     "output_type": "execute_result"
    }
   ],
   "source": [
    "os.listdir(weather_data_dir)"
   ]
  },
  {
   "cell_type": "code",
   "execution_count": null,
   "id": "c59ffd27-eda1-441d-800d-0f98c3a2148d",
   "metadata": {},
   "outputs": [],
   "source": []
  },
  {
   "cell_type": "code",
   "execution_count": 119,
   "id": "dee42247-01a1-4be9-bdc7-6f4d95226cfd",
   "metadata": {},
   "outputs": [],
   "source": [
    "#exports\n",
    "def load_weather_df(\n",
    "    data_dir: str,\n",
    "    grid_point: str='mousehole_1'\n",
    "):\n",
    "    df = pd.read_csv(f'{data_dir}/df_{grid_point}_hourly.csv')\n",
    "\n",
    "    df['datetime'] = pd.to_datetime(df['datetime'], utc=True)\n",
    "    df = df.set_index('datetime')\n",
    "    \n",
    "    return df"
   ]
  },
  {
   "cell_type": "code",
   "execution_count": 121,
   "id": "80b7b91c-9064-451e-9397-0ba38d8efe75",
   "metadata": {},
   "outputs": [
    {
     "data": {
      "text/html": [
       "<div>\n",
       "<style scoped>\n",
       "    .dataframe tbody tr th:only-of-type {\n",
       "        vertical-align: middle;\n",
       "    }\n",
       "\n",
       "    .dataframe tbody tr th {\n",
       "        vertical-align: top;\n",
       "    }\n",
       "\n",
       "    .dataframe thead th {\n",
       "        text-align: right;\n",
       "    }\n",
       "</style>\n",
       "<table border=\"1\" class=\"dataframe\">\n",
       "  <thead>\n",
       "    <tr style=\"text-align: right;\">\n",
       "      <th></th>\n",
       "      <th>temperature</th>\n",
       "      <th>solar_irradiance</th>\n",
       "      <th>windspeed_north</th>\n",
       "      <th>windspeed_east</th>\n",
       "      <th>pressure</th>\n",
       "      <th>spec_humidity</th>\n",
       "    </tr>\n",
       "    <tr>\n",
       "      <th>datetime</th>\n",
       "      <th></th>\n",
       "      <th></th>\n",
       "      <th></th>\n",
       "      <th></th>\n",
       "      <th></th>\n",
       "      <th></th>\n",
       "    </tr>\n",
       "  </thead>\n",
       "  <tbody>\n",
       "    <tr>\n",
       "      <th>2019-01-01 00:00:00+00:00</th>\n",
       "      <td>10.764093</td>\n",
       "      <td>0.0</td>\n",
       "      <td>-1.031864</td>\n",
       "      <td>1.723119</td>\n",
       "      <td>103612.060</td>\n",
       "      <td>0.006268</td>\n",
       "    </tr>\n",
       "    <tr>\n",
       "      <th>2019-01-01 01:00:00+00:00</th>\n",
       "      <td>10.746118</td>\n",
       "      <td>0.0</td>\n",
       "      <td>-1.098079</td>\n",
       "      <td>1.715133</td>\n",
       "      <td>103617.540</td>\n",
       "      <td>0.006247</td>\n",
       "    </tr>\n",
       "    <tr>\n",
       "      <th>2019-01-01 02:00:00+00:00</th>\n",
       "      <td>10.716302</td>\n",
       "      <td>0.0</td>\n",
       "      <td>-1.238148</td>\n",
       "      <td>1.707918</td>\n",
       "      <td>103641.120</td>\n",
       "      <td>0.006227</td>\n",
       "    </tr>\n",
       "    <tr>\n",
       "      <th>2019-01-01 03:00:00+00:00</th>\n",
       "      <td>10.688959</td>\n",
       "      <td>0.0</td>\n",
       "      <td>-1.530157</td>\n",
       "      <td>1.625398</td>\n",
       "      <td>103638.695</td>\n",
       "      <td>0.006261</td>\n",
       "    </tr>\n",
       "    <tr>\n",
       "      <th>2019-01-01 04:00:00+00:00</th>\n",
       "      <td>10.768945</td>\n",
       "      <td>0.0</td>\n",
       "      <td>-1.977102</td>\n",
       "      <td>1.431831</td>\n",
       "      <td>103635.140</td>\n",
       "      <td>0.006347</td>\n",
       "    </tr>\n",
       "  </tbody>\n",
       "</table>\n",
       "</div>"
      ],
      "text/plain": [
       "                           temperature  solar_irradiance  windspeed_north  \\\n",
       "datetime                                                                    \n",
       "2019-01-01 00:00:00+00:00    10.764093               0.0        -1.031864   \n",
       "2019-01-01 01:00:00+00:00    10.746118               0.0        -1.098079   \n",
       "2019-01-01 02:00:00+00:00    10.716302               0.0        -1.238148   \n",
       "2019-01-01 03:00:00+00:00    10.688959               0.0        -1.530157   \n",
       "2019-01-01 04:00:00+00:00    10.768945               0.0        -1.977102   \n",
       "\n",
       "                           windspeed_east    pressure  spec_humidity  \n",
       "datetime                                                              \n",
       "2019-01-01 00:00:00+00:00        1.723119  103612.060       0.006268  \n",
       "2019-01-01 01:00:00+00:00        1.715133  103617.540       0.006247  \n",
       "2019-01-01 02:00:00+00:00        1.707918  103641.120       0.006227  \n",
       "2019-01-01 03:00:00+00:00        1.625398  103638.695       0.006261  \n",
       "2019-01-01 04:00:00+00:00        1.431831  103635.140       0.006347  "
      ]
     },
     "execution_count": 121,
     "metadata": {},
     "output_type": "execute_result"
    }
   ],
   "source": [
    "df_weather_mh1 = load_weather_df(weather_data_dir)\n",
    "\n",
    "df_weather_mh1.head()"
   ]
  },
  {
   "cell_type": "code",
   "execution_count": null,
   "id": "83be9f24-21ba-4aad-a9cf-07901e333641",
   "metadata": {},
   "outputs": [],
   "source": []
  },
  {
   "cell_type": "code",
   "execution_count": null,
   "id": "7e2c7ba8-f9d4-44ab-bdf9-c4692a8ad175",
   "metadata": {},
   "outputs": [],
   "source": [
    "# should create a reindex func that will let you ffill or interpolate\n",
    "\n",
    "# interpolate weather data\n",
    "# get common idxs \n",
    "# combine datasets"
   ]
  },
  {
   "cell_type": "code",
   "execution_count": null,
   "id": "6cc1c408-9f6b-421c-bc0d-20c4a1407ec7",
   "metadata": {},
   "outputs": [],
   "source": []
  },
  {
   "cell_type": "code",
   "execution_count": 129,
   "id": "aaffa80e-5a8c-49d2-860f-a2e3cc1a65dd",
   "metadata": {},
   "outputs": [
    {
     "name": "stdout",
     "output_type": "stream",
     "text": [
      "Converted 01-data-processing.ipynb.\n",
      "Converted 02-spatial-analysis.ipynb.\n",
      "Converted 03-eda.ipynb.\n",
      "Converted 04-model-suite.ipynb.\n"
     ]
    }
   ],
   "source": [
    "#hide\n",
    "from nbdev.export import notebook2script\n",
    "    \n",
    "notebook2script()"
   ]
  },
  {
   "cell_type": "code",
   "execution_count": null,
   "id": "6f857ee8-31f2-4bc9-bb45-1e24b1723aeb",
   "metadata": {},
   "outputs": [],
   "source": []
  }
 ],
 "metadata": {
  "kernelspec": {
   "display_name": "evtdemand",
   "language": "python",
   "name": "evtdemand"
  },
  "language_info": {
   "codemirror_mode": {
    "name": "ipython",
    "version": 3
   },
   "file_extension": ".py",
   "mimetype": "text/x-python",
   "name": "python",
   "nbconvert_exporter": "python",
   "pygments_lexer": "ipython3",
   "version": "3.9.7"
  }
 },
 "nbformat": 4,
 "nbformat_minor": 5
}
