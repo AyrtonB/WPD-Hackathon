{
 "cells": [
  {
   "cell_type": "code",
   "execution_count": null,
   "id": "5235807f-0e80-43c3-9354-e2f6896b74de",
   "metadata": {},
   "outputs": [],
   "source": [
    "#default_exp spatial"
   ]
  },
  {
   "cell_type": "markdown",
   "id": "b49c760d-3dea-49af-a0b1-cd3d6f916598",
   "metadata": {},
   "source": [
    "# Spatial Analysis\n",
    "\n",
    "<br>\n",
    "\n",
    "### Imports"
   ]
  },
  {
   "cell_type": "code",
   "execution_count": 7,
   "id": "562d7d2a-52a4-4ef9-9a26-1dc4fd9c89ed",
   "metadata": {},
   "outputs": [],
   "source": [
    "#exports\n",
    "import pandas as pd\n",
    "import geopandas as gpd\n",
    "\n",
    "import requests\n",
    "import warnings\n",
    "\n",
    "import matplotlib.pyplot as plt"
   ]
  },
  {
   "cell_type": "code",
   "execution_count": null,
   "id": "b2fd58a7-7f80-4739-9acd-86ebd665ebd7",
   "metadata": {},
   "outputs": [],
   "source": []
  },
  {
   "cell_type": "code",
   "execution_count": 14,
   "id": "037294ad-3c47-4553-a586-2eb03463ae04",
   "metadata": {},
   "outputs": [],
   "source": [
    "#export\n",
    "def df_to_gdf(\n",
    "    df: pd.DataFrame,\n",
    "    crs: str='EPSG:4326',\n",
    "    lat_col: str='Latitude',\n",
    "    lon_col: str='Longitude'\n",
    "):\n",
    "    with warnings.catch_warnings():\n",
    "        warnings.simplefilter('ignore')\n",
    "    \n",
    "        gdf = gpd.GeoDataFrame(\n",
    "            df.drop(columns=[lat_col, lon_col]),\n",
    "            geometry=gpd.points_from_xy(df[lat_col].values, df[lon_col].values, crs=crs),\n",
    "            crs=crs\n",
    "        )\n",
    "\n",
    "    return gdf\n",
    "\n",
    "def load_subsation_locs_gdf(\n",
    "    wpd_network_capacity_map_url: str='https://connecteddata.westernpower.co.uk/dataset/967404e0-f25c-469b-8857-1a396f3c363f/resource/d1895bd3-d9d2-4886-a0a3-b7eadd9ab6c2/download/wpd-network-capacity-map.csv',\n",
    "    network_ids_filter: list=[15130, 15264, 15246]\n",
    "):\n",
    "    df_wpd_map = pd.read_csv(wpd_network_capacity_map_url)\n",
    "    df_wpd_map_focus = df_wpd_map.query('Network_Reference_ID in @network_ids_filter')\n",
    "\n",
    "    df_subsation_locs = df_wpd_map_focus.set_index('Substation_Name')[['Latitude', 'Longitude']]\n",
    "    df_subsation_locs.index = df_subsation_locs.index.str.lower()\n",
    "\n",
    "    gdf_subsation_locs = df_to_gdf(df_subsation_locs)\n",
    "    \n",
    "    return gdf_subsation_locs"
   ]
  },
  {
   "cell_type": "code",
   "execution_count": 15,
   "id": "0edec795-06f6-4144-a030-5308dc75169e",
   "metadata": {},
   "outputs": [
    {
     "data": {
      "text/html": [
       "<div>\n",
       "<style scoped>\n",
       "    .dataframe tbody tr th:only-of-type {\n",
       "        vertical-align: middle;\n",
       "    }\n",
       "\n",
       "    .dataframe tbody tr th {\n",
       "        vertical-align: top;\n",
       "    }\n",
       "\n",
       "    .dataframe thead th {\n",
       "        text-align: right;\n",
       "    }\n",
       "</style>\n",
       "<table border=\"1\" class=\"dataframe\">\n",
       "  <thead>\n",
       "    <tr style=\"text-align: right;\">\n",
       "      <th></th>\n",
       "      <th>geometry</th>\n",
       "    </tr>\n",
       "    <tr>\n",
       "      <th>Substation_Name</th>\n",
       "      <th></th>\n",
       "    </tr>\n",
       "  </thead>\n",
       "  <tbody>\n",
       "    <tr>\n",
       "      <th>geevor</th>\n",
       "      <td>POINT (50.14890 -5.67300)</td>\n",
       "    </tr>\n",
       "    <tr>\n",
       "      <th>mousehole</th>\n",
       "      <td>POINT (50.08380 -5.54870)</td>\n",
       "    </tr>\n",
       "    <tr>\n",
       "      <th>staplegrove</th>\n",
       "      <td>POINT (51.02540 -3.12040)</td>\n",
       "    </tr>\n",
       "  </tbody>\n",
       "</table>\n",
       "</div>"
      ],
      "text/plain": [
       "                                  geometry\n",
       "Substation_Name                           \n",
       "geevor           POINT (50.14890 -5.67300)\n",
       "mousehole        POINT (50.08380 -5.54870)\n",
       "staplegrove      POINT (51.02540 -3.12040)"
      ]
     },
     "execution_count": 15,
     "metadata": {},
     "output_type": "execute_result"
    }
   ],
   "source": [
    "gdf_subsation_locs = load_subsation_locs_gdf()\n",
    "\n",
    "gdf_subsation_locs"
   ]
  },
  {
   "cell_type": "code",
   "execution_count": null,
   "id": "68a295a2-f836-43c3-bb32-b7795debf1db",
   "metadata": {},
   "outputs": [],
   "source": []
  },
  {
   "cell_type": "code",
   "execution_count": 16,
   "id": "570f270a-3b5c-4e58-a3a2-8e23973d1df1",
   "metadata": {},
   "outputs": [],
   "source": [
    "#exports\n",
    "def load_weather_grid_locs_gdf(\n",
    "    weather_grid_locs: list=[\n",
    "        {'Name': 'mousehole_1', 'Latitude': 50.0, 'Longitude': -5.625},\n",
    "        {'Name': 'mousehole_2', 'Latitude': 50.0, 'Longitude': -5.0},\n",
    "        {'Name': 'mousehole_3', 'Latitude': 50.5, 'Longitude': -5.625},\n",
    "        {'Name': 'mousehole_4', 'Latitude': 50.5, 'Longitude': -5.0},\n",
    "        {'Name': 'mousehole_5', 'Latitude': 50.5, 'Longitude': -4.375},\n",
    "        {'Name': 'staplegrove_1', 'Latitude': 51.0, 'Longitude': -3.125},\n",
    "        {'Name': 'staplegrove_2', 'Latitude': 51.0, 'Longitude': -2.5},\n",
    "        {'Name': 'staplegrove_3', 'Latitude': 51.5, 'Longitude': -3.125},\n",
    "        {'Name': 'staplegrove_4', 'Latitude': 51.5, 'Longitude': -2.5},\n",
    "        {'Name': 'staplegrove_5', 'Latitude': 51.0, 'Longitude': -3.75}\n",
    "    ]\n",
    "):\n",
    "    gdf_weather_grid_locs = df_to_gdf(pd.DataFrame(weather_grid_locs).set_index('Name'))\n",
    "\n",
    "    return gdf_weather_grid_locs"
   ]
  },
  {
   "cell_type": "code",
   "execution_count": 18,
   "id": "abb4f47a-de19-4813-ae5b-cec3a54567b0",
   "metadata": {},
   "outputs": [
    {
     "data": {
      "text/html": [
       "<div>\n",
       "<style scoped>\n",
       "    .dataframe tbody tr th:only-of-type {\n",
       "        vertical-align: middle;\n",
       "    }\n",
       "\n",
       "    .dataframe tbody tr th {\n",
       "        vertical-align: top;\n",
       "    }\n",
       "\n",
       "    .dataframe thead th {\n",
       "        text-align: right;\n",
       "    }\n",
       "</style>\n",
       "<table border=\"1\" class=\"dataframe\">\n",
       "  <thead>\n",
       "    <tr style=\"text-align: right;\">\n",
       "      <th></th>\n",
       "      <th>geometry</th>\n",
       "    </tr>\n",
       "    <tr>\n",
       "      <th>Name</th>\n",
       "      <th></th>\n",
       "    </tr>\n",
       "  </thead>\n",
       "  <tbody>\n",
       "    <tr>\n",
       "      <th>mousehole_1</th>\n",
       "      <td>POINT (50.00000 -5.62500)</td>\n",
       "    </tr>\n",
       "    <tr>\n",
       "      <th>mousehole_2</th>\n",
       "      <td>POINT (50.00000 -5.00000)</td>\n",
       "    </tr>\n",
       "    <tr>\n",
       "      <th>mousehole_3</th>\n",
       "      <td>POINT (50.50000 -5.62500)</td>\n",
       "    </tr>\n",
       "    <tr>\n",
       "      <th>mousehole_4</th>\n",
       "      <td>POINT (50.50000 -5.00000)</td>\n",
       "    </tr>\n",
       "    <tr>\n",
       "      <th>mousehole_5</th>\n",
       "      <td>POINT (50.50000 -4.37500)</td>\n",
       "    </tr>\n",
       "    <tr>\n",
       "      <th>staplegrove_1</th>\n",
       "      <td>POINT (51.00000 -3.12500)</td>\n",
       "    </tr>\n",
       "    <tr>\n",
       "      <th>staplegrove_2</th>\n",
       "      <td>POINT (51.00000 -2.50000)</td>\n",
       "    </tr>\n",
       "    <tr>\n",
       "      <th>staplegrove_3</th>\n",
       "      <td>POINT (51.50000 -3.12500)</td>\n",
       "    </tr>\n",
       "    <tr>\n",
       "      <th>staplegrove_4</th>\n",
       "      <td>POINT (51.50000 -2.50000)</td>\n",
       "    </tr>\n",
       "    <tr>\n",
       "      <th>staplegrove_5</th>\n",
       "      <td>POINT (51.00000 -3.75000)</td>\n",
       "    </tr>\n",
       "  </tbody>\n",
       "</table>\n",
       "</div>"
      ],
      "text/plain": [
       "                                geometry\n",
       "Name                                    \n",
       "mousehole_1    POINT (50.00000 -5.62500)\n",
       "mousehole_2    POINT (50.00000 -5.00000)\n",
       "mousehole_3    POINT (50.50000 -5.62500)\n",
       "mousehole_4    POINT (50.50000 -5.00000)\n",
       "mousehole_5    POINT (50.50000 -4.37500)\n",
       "staplegrove_1  POINT (51.00000 -3.12500)\n",
       "staplegrove_2  POINT (51.00000 -2.50000)\n",
       "staplegrove_3  POINT (51.50000 -3.12500)\n",
       "staplegrove_4  POINT (51.50000 -2.50000)\n",
       "staplegrove_5  POINT (51.00000 -3.75000)"
      ]
     },
     "execution_count": 18,
     "metadata": {},
     "output_type": "execute_result"
    }
   ],
   "source": [
    "gdf_weather_grid_locs = load_weather_grid_locs_gdf()\n",
    "\n",
    "gdf_weather_grid_locs"
   ]
  },
  {
   "cell_type": "code",
   "execution_count": null,
   "id": "459f2be6-6c1c-43ed-ab7c-8a176cd1eb7c",
   "metadata": {},
   "outputs": [],
   "source": []
  },
  {
   "cell_type": "code",
   "execution_count": 23,
   "id": "16725e98-6a63-46e7-a867-cb95232cee8f",
   "metadata": {},
   "outputs": [
    {
     "data": {
      "text/plain": [
       "<matplotlib.legend.Legend at 0x1ae93beb670>"
      ]
     },
     "execution_count": 23,
     "metadata": {},
     "output_type": "execute_result"
    },
    {
     "data": {
      "image/png": "[encoded data removed]",
      "text/plain": [
       "<Figure size 900x600 with 1 Axes>"
      ]
     },
     "metadata": {
      "needs_background": "light"
     },
     "output_type": "display_data"
    }
   ],
   "source": [
    "fig, ax = plt.subplots(dpi=150)\n",
    "\n",
    "gdf_weather_grid_locs.plot(ax=ax, label='Weather grid')\n",
    "gdf_subsation_locs.plot(ax=ax, label='Substation')\n",
    "\n",
    "ax.legend(frameon=False, bbox_to_anchor=(1, 1))"
   ]
  },
  {
   "cell_type": "code",
   "execution_count": null,
   "id": "800a7910-ed1a-4770-bc5c-39200934db2c",
   "metadata": {},
   "outputs": [],
   "source": []
  }
 ],
 "metadata": {
  "kernelspec": {
   "display_name": "evtdemand",
   "language": "python",
   "name": "evtdemand"
  },
  "language_info": {
   "codemirror_mode": {
    "name": "ipython",
    "version": 3
   },
   "file_extension": ".py",
   "mimetype": "text/x-python",
   "name": "python",
   "nbconvert_exporter": "python",
   "pygments_lexer": "ipython3",
   "version": "3.9.7"
  }
 },
 "nbformat": 4,
 "nbformat_minor": 5
}
