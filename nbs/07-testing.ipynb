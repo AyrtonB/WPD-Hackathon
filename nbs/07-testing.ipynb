{
 "cells": [
  {
   "cell_type": "code",
   "execution_count": 1,
   "id": "af4d403a-d4cd-4e07-bb66-d5c67dd0d141",
   "metadata": {},
   "outputs": [],
   "source": [
    "#default_exp test"
   ]
  },
  {
   "cell_type": "markdown",
   "id": "c76de77e-2528-4edd-99b4-ba4b9d44fd59",
   "metadata": {},
   "source": [
    "# Tests\n",
    "\n",
    "<br>\n",
    "\n",
    "### Imports"
   ]
  },
  {
   "cell_type": "code",
   "execution_count": 6,
   "id": "48a4fc13-f3aa-4d98-8f1c-094c8d7c8917",
   "metadata": {},
   "outputs": [],
   "source": [
    "#exports\n",
    "import os\n",
    "import pytest\n",
    "\n",
    "from evtdemand import suite"
   ]
  },
  {
   "cell_type": "code",
   "execution_count": null,
   "id": "8c61d2bb-68cb-46c2-8163-75336e64b626",
   "metadata": {},
   "outputs": [],
   "source": []
  },
  {
   "cell_type": "code",
   "execution_count": 3,
   "id": "ef8003ac-0ab9-4ddf-9fe2-f1df2c77e72b",
   "metadata": {},
   "outputs": [],
   "source": [
    "#exports\n",
    "def test_parameterised_model(params_fp: str='data/params/test.yml'):\n",
    "    params = suite.load_params(params_fp)\n",
    "    model_suite, error_metrics, df_pred, input_data = suite.run_parameterised_model(**params)\n",
    "\n",
    "    assert error_metrics['skill_score'] < 0.55\n",
    "    \n",
    "    return"
   ]
  },
  {
   "cell_type": "code",
   "execution_count": 4,
   "id": "21314ff9-4196-4435-818a-056b829046ad",
   "metadata": {},
   "outputs": [
    {
     "name": "stdout",
     "output_type": "stream",
     "text": [
      "Wall time: 3.37 s\n"
     ]
    }
   ],
   "source": [
    "%%time\n",
    "\n",
    "os.chdir('..')\n",
    "test_parameterised_model()\n",
    "os.chdir('nbs')"
   ]
  },
  {
   "cell_type": "code",
   "execution_count": null,
   "id": "9e95787c-bcb5-4274-ba36-9a2e75dd21f5",
   "metadata": {},
   "outputs": [],
   "source": []
  },
  {
   "cell_type": "code",
   "execution_count": 5,
   "id": "c1903128-da0b-49d3-8445-186ed97bf239",
   "metadata": {},
   "outputs": [
    {
     "name": "stdout",
     "output_type": "stream",
     "text": [
      "Converted 01-data-processing.ipynb.\n",
      "Converted 02-spatial-analysis.ipynb.\n",
      "Converted 03a-feature-generation.ipynb.\n",
      "Converted 03b-eda.ipynb.\n",
      "Converted 04-model-suite.ipynb.\n",
      "Converted 05-submission.ipynb.\n",
      "Converted 06-experiments.ipynb.\n",
      "Converted 07-testing.ipynb.\n"
     ]
    }
   ],
   "source": [
    "#hide\n",
    "from nbdev.export import notebook2script\n",
    "\n",
    "notebook2script()"
   ]
  },
  {
   "cell_type": "code",
   "execution_count": null,
   "id": "6c5aa5b5-d587-4efd-8876-927305f4a43f",
   "metadata": {},
   "outputs": [],
   "source": []
  }
 ],
 "metadata": {
  "kernelspec": {
   "display_name": "evtdemand",
   "language": "python",
   "name": "evtdemand"
  },
  "language_info": {
   "codemirror_mode": {
    "name": "ipython",
    "version": 3
   },
   "file_extension": ".py",
   "mimetype": "text/x-python",
   "name": "python",
   "nbconvert_exporter": "python",
   "pygments_lexer": "ipython3",
   "version": "3.9.7"
  }
 },
 "nbformat": 4,
 "nbformat_minor": 5
}
